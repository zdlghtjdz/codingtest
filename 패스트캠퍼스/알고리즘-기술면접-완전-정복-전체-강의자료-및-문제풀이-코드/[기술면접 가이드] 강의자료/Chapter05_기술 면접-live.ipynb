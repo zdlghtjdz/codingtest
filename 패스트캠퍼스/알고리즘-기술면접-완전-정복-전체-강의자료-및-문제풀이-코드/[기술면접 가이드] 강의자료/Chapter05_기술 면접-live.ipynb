{
 "cells": [
  {
   "cell_type": "markdown",
   "metadata": {},
   "source": [
    "## 신입 기술면접"
   ]
  },
  {
   "cell_type": "markdown",
   "metadata": {},
   "source": [
    "### 1. 손코딩 테스트 단계별 유의점\n",
    "\n",
    "#### 1. 문제 듣기\n",
    "  - 문제 설명 관련 정보는 하나라도 놓치지 않고 들어야 함\n",
    "    - 세세한 문구 하나하나에 조건이 숨겨져 있을 수 있음\n",
    "      - 조건을 놓치면 요구되지 않은 프로그램을 작성할 수 있음\n",
    "    - 애매하게 이야기한 부분은 반드시 짚고 넘어가야 함\n",
    "      - 의도적으로 애매하게 이야기해서, 조건을 명확하게 커뮤니케이션을 통해 정의할 수 있는지를 판단함  \n",
    "\n",
    "#### 2. 예제를 통해 문제 이해하기\n",
    "  - 직접 예제를 적어보고, 문제를 이해하고, 숨은 조건을 명확히 커뮤니케이션을 통해 확인함\n",
    "\n",
    "#### 3. 무식하게 풀기\n",
    "  - 처음부터 최적의 알고리즘을 생각하지 말 것\n",
    "  - 일단 무식한 코드라도 좋으니, 코드로 작성해서 요구에 맞는 결과를 낼 것\n",
    "  - 시간 복잡도를 대략적으로 계산해서 알려줄 것\n",
    "\n",
    "#### 4. 질문자와 커뮤니케이션을 통해 개선하기\n",
    "  - 개선의 포인트를 질문자와의 커뮤니케이션을 통해 찾아내기\n",
    "  - 개선할만한 부분의 코드를 수정하기\n",
    "  - 개선된 시간 복잡도를 대략적으로 계산해서 알려줄 것\n",
    "\n",
    "#### 5. 마이너한 부분의 최적화\n",
    "  - 병목현상, 불필요 작업, 중복 작업, 놓친 부분을 최적화하며 완벽한 코드를 만들 것\n",
    "  - 방어코드를 넣을 것\n",
    "\n",
    "#### 6. 검토하기\n",
    "  - 몇가지 예제를 가지고 간단히 테스트해보고 문제 없음을 보여줄 것"
   ]
  },
  {
   "cell_type": "markdown",
   "metadata": {},
   "source": [
    "#### 주요 검증 포인트\n",
    "1. hands-on coding ability\n",
    "2. logical thinking\n",
    "3. code style\n",
    "4. code quality\n",
    "5. corner case sense\n",
    "6. ability to provide different solution\n",
    "7. basic data structure knowledge"
   ]
  },
  {
   "cell_type": "markdown",
   "metadata": {},
   "source": [
    "### 2. 손코딩 테스트 설명을 위해 예시로 사용한 문제"
   ]
  },
  {
   "cell_type": "markdown",
   "metadata": {},
   "source": [
    "<div class=\"alert alert-block alert-warning\">\n",
    "<font color=\"blue\" size=\"3em\"><b>손코딩 문제1 (꼼꼼한 코드 작성을 확인하고자 하는 경우)</b></font><br>\n",
    "하나의 문자열과 라인 길이를 나타내는 숫자가 주어지고,<br>\n",
    "라인 길이만큼 문자열을 짜르고 줄바꿈 기호를 넣되, 문자열 안에 스페이스가 있을 경우 보기 좋게 하기 위해, 스페이스가 있는 부분에서 줄바꿈 기호를 넣도록 코드를 구현하세요 \n",
    "</div>"
   ]
  },
  {
   "cell_type": "markdown",
   "metadata": {},
   "source": [
    "- 질문 항목\n",
    "  - string, max_line 이 null (None) 이 오는 경우가 있는지: 올 수 있음\n",
    "     - null 이 오면 어떻게 처리를 할지: string을 그대로 리턴해라\n",
    "  - max_line 도 마이너스가 올 수 있는지, 0이 올 수 있는지: 마이너스는 올 수 없음, 0 이상의 정수값만 인풋으로 올 수 있음 \n",
    "  - string, max_line의 최대값이 어떻게 되는지: string, max_line 둘다 시스템이 지원하는 최대값이 각 변수의 최대값임"
   ]
  },
  {
   "cell_type": "code",
   "execution_count": null,
   "metadata": {},
   "outputs": [],
   "source": [
    "def line_edit(string, max_line):\n",
    "    if string == None or max_line == None or len(string) < max_line:\n",
    "        return string\n",
    "    \n",
    "    for index in range(max_line - 1, 0, -1):\n",
    "        if string[index] == ' ':\n",
    "            return string[:index] + '\\n' + line_edit(string[index:].lstrip(), max_line)\n",
    "    return string[:max_line] + '\\n' + line_edit(string[max_line:].lstrip(), max_line)"
   ]
  },
  {
   "cell_type": "markdown",
   "metadata": {},
   "source": [
    "<div class=\"alert alert-block alert-warning\">\n",
    "<strong><font color=\"blue\" size=\"3em\">손코딩 문제2 (가벼운 문제부터 시작하는 경우)</font></strong><br>\n",
    "회문(palindrome)은 순서를 거꾸로 읽어도 제대로 읽은 것과 같은 단어와 문장을 의미함<br>\n",
    "회문을 판별할 수 있는 함수를 리스트 슬라이싱을 활용해서 만드세요\n",
    "<img src=\"https://www.fun-coding.org/00_Images/palindrome.png\" />\n",
    "</div>"
   ]
  },
  {
   "cell_type": "markdown",
   "metadata": {},
   "source": [
    "- 회문 예: rumur -> rumur\n",
    "  - 함수명을 check 로 하면 어떨까요?\n",
    "  - 어떤 언어로 작성할까?\n",
    "- 질문 예: string 변수에 null (None) 이 올 수 있는지\n",
    "  - null 이 왔을 때 함수의 리턴값이 무엇이 되어야 하는지"
   ]
  },
  {
   "cell_type": "markdown",
   "metadata": {},
   "source": [
    "<div class=\"alert alert-block alert-warning\">\n",
    "<font color=\"blue\" size=\"3em\"><b>손코딩 문제3 (시간 복잡도 개선에 대해 확인하고자 하는 경우)</b></font><br>\n",
    "특정 기간 동안의 가격 변화가 주어졌을 때, 그 주식 한 주를 한번 사고 팔아 얻을 수 있는 최대 수익을 계산하는 알고리즘을 만들어 보세요\n",
    "</div>"
   ]
  },
  {
   "cell_type": "markdown",
   "metadata": {},
   "source": [
    "- 질문 리스트\n",
    "  - 가격변화가 어떻게 주어지는지: 파이썬 리스트 형태로 원화 형태로 가격(숫자)이 주어짐 (0번 인덱스가 가장 이전 시간, 그리고 순차적으로 해서 마지막 인덱스가 가장 나중 시간)\n",
    "  - output: [최대 수익, 언제 샀는지, 언제 팔았는지에 대한 인덱스 번호]"
   ]
  },
  {
   "cell_type": "code",
   "execution_count": 2,
   "metadata": {},
   "outputs": [],
   "source": [
    "def find_max_profit(stock_prices):\n",
    "    last_date = len(stock_prices)\n",
    "    max_profit = [0, 0, 0]\n",
    "    \n",
    "    for buy_date in range(last_date - 1):\n",
    "        for sell_date in range(buy_date + 1, last_date):\n",
    "            profit = stock_prices[sell_date] - stock_prices[buy_date]\n",
    "            if profit > max_profit[0]:\n",
    "                max_profit = [profit, buy_date, sell_date]\n",
    "    return max_profit       "
   ]
  },
  {
   "cell_type": "code",
   "execution_count": 3,
   "metadata": {},
   "outputs": [
    {
     "name": "stdout",
     "output_type": "stream",
     "text": [
      "[3000, 2, 4]\n"
     ]
    }
   ],
   "source": [
    "stocks = [9000, 8000, 7000, 8000, 10000, 5000, 7000]\n",
    "print (find_max_profit(stocks))"
   ]
  },
  {
   "cell_type": "code",
   "execution_count": 4,
   "metadata": {},
   "outputs": [],
   "source": [
    "def find_max_profit(stock_prices):\n",
    "    last_date = len(stock_prices)\n",
    "    max_profit = [0, 0, 0]\n",
    "    min_price, min_date = stock_prices[0], 0\n",
    "    \n",
    "    for current_date in range(1, last_date):\n",
    "        profit = stock_prices[current_date] - min_price\n",
    "        if profit > max_profit[0]:\n",
    "            max_profit = [profit, min_date, current_date]\n",
    "        if min_price > stock_prices[current_date]:\n",
    "            min_price, min_date = stock_prices[current_date], current_date\n",
    "    return max_profit"
   ]
  },
  {
   "cell_type": "code",
   "execution_count": 5,
   "metadata": {},
   "outputs": [
    {
     "name": "stdout",
     "output_type": "stream",
     "text": [
      "[3000, 2, 4]\n"
     ]
    }
   ],
   "source": [
    "stocks = [9000, 8000, 7000, 8000, 10000, 5000, 7000]\n",
    "print (find_max_profit(stocks))"
   ]
  },
  {
   "cell_type": "markdown",
   "metadata": {},
   "source": [
    "<div class=\"alert alert-block alert-warning\">\n",
    "<font color=\"blue\" size=\"3em\"><b>손코딩 문제4 (가볍게 코드 성능 개선에 대해 확인하고자 하는 경우)</b></font><br>\n",
    "하나의 배열이 주어지고, 해당 배열의 각 데이터는 숫자임<br>\n",
    "배열 절반의 길이보다 큰 갯수만큼 특정 숫자가 들어가 있으면 해당 숫자, 그렇지 않으면 -1을 리턴하는 함수를 만들어라<br>\n",
    "\n",
    "예: [2, 7, 7, 7, 1, 7, 2], 리턴값: 7\n",
    "</div>"
   ]
  }
 ],
 "metadata": {
  "kernelspec": {
   "display_name": "Python 3",
   "language": "python",
   "name": "python3"
  },
  "language_info": {
   "codemirror_mode": {
    "name": "ipython",
    "version": 3
   },
   "file_extension": ".py",
   "mimetype": "text/x-python",
   "name": "python",
   "nbconvert_exporter": "python",
   "pygments_lexer": "ipython3",
   "version": "3.7.4"
  }
 },
 "nbformat": 4,
 "nbformat_minor": 2
}
