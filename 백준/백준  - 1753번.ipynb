{
 "cells": [
  {
   "cell_type": "code",
   "execution_count": 5,
   "metadata": {},
   "outputs": [
    {
     "name": "stdout",
     "output_type": "stream",
     "text": [
      "5 6\n",
      "1\n",
      "5 1 1\n",
      "1 2 2\n",
      "1 3 3\n",
      "2 3 4 \n",
      "2 4 5\n",
      "3 4 6\n",
      "[1000000000, 0, 2, 3, 7, 1000000000]\n",
      "0\n",
      "2\n",
      "3\n",
      "7\n",
      "INF\n"
     ]
    }
   ],
   "source": [
    "import heapq\n",
    "import sys\n",
    "\n",
    "input = sys.stdin.readline # jupyter notebook 에서는 동작하지 않으나, 백준 테스트 통과를 위해 사용함.\n",
    " \n",
    "INF = int(1e9)\n",
    "\n",
    "V, E = map(int, input().split())\n",
    "# 모든 정점은 1 - V\n",
    "K = int(input()) # 시작 정점\n",
    "\n",
    "graph = [[] for _ in range(V+1)]\n",
    "distance = [INF] * (V+1)\n",
    "\n",
    "for _ in range(E):\n",
    "    a, b, c = map(int,input().split()) # w는 10이하\n",
    "    graph[a].append((b, c))\n",
    "\n",
    "def dijkstra(start):\n",
    "    q = []\n",
    "    distance[start] = 0\n",
    "    heapq.heappush(q, (0, start))\n",
    "    while q : \n",
    "        dist, now = heapq.heappop(q)\n",
    "        if distance[now] < dist:\n",
    "            continue\n",
    "        for i in graph[now]:\n",
    "            cost = dist + i[1]\n",
    "            if cost < distance[i[0]]:\n",
    "                distance[i[0]] = cost\n",
    "                heapq.heappush(q, (cost, i[0]))\n",
    "\n",
    "                \n",
    "dijkstra(K)\n",
    "#print(distance)\n",
    "for i in range(1, len(distance)):\n",
    "    if distance[i] == INF:\n",
    "        print(\"INF\")\n",
    "    else:\n",
    "        print(distance[i])"
   ]
  },
  {
   "cell_type": "code",
   "execution_count": null,
   "metadata": {},
   "outputs": [],
   "source": []
  }
 ],
 "metadata": {
  "kernelspec": {
   "display_name": "Python 3",
   "language": "python",
   "name": "python3"
  },
  "language_info": {
   "codemirror_mode": {
    "name": "ipython",
    "version": 3
   },
   "file_extension": ".py",
   "mimetype": "text/x-python",
   "name": "python",
   "nbconvert_exporter": "python",
   "pygments_lexer": "ipython3",
   "version": "3.8.5"
  }
 },
 "nbformat": 4,
 "nbformat_minor": 4
}
