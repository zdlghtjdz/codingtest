{
 "cells": [
  {
   "cell_type": "code",
   "execution_count": null,
   "metadata": {},
   "outputs": [],
   "source": [
    "#미로 탐색\n",
    "\n",
    "from collections import deque\n",
    "\n",
    "n,m = map(int, input().split())\n",
    "\n",
    "array = []\n",
    "for i in range(n):\n",
    "    array.append(list(map(int, input())))\n",
    "\n",
    "\n",
    "\n",
    "def bfs(x, y):\n",
    "    dx = [0, 1, 0, -1]\n",
    "    dy = [1, 0, -1, 0]\n",
    "    if 0 <= x and x < m and 0 <= y and y < n:\n",
    "        queue = deque()\n",
    "        queue.append((x,y))\n",
    "        while queue:\n",
    "            x, y = queue.popleft()\n",
    "            for i in range(4):\n",
    "                nx = x + dx[i]\n",
    "                ny = y + dy[i]\n",
    "                if 0 <= nx and nx < m and 0 <= ny and ny < n:\n",
    "                    if array[ny][nx] == 1:\n",
    "                        array[ny][nx] = array[y][x] + 1\n",
    "                        queue.append((nx, ny))\n",
    "\n",
    "bfs(0,0)                            \n",
    "print(array[n-1][m-1])"
   ]
  },
  {
   "cell_type": "code",
   "execution_count": null,
   "metadata": {},
   "outputs": [],
   "source": []
  }
 ],
 "metadata": {
  "kernelspec": {
   "display_name": "Python 3",
   "language": "python",
   "name": "python3"
  },
  "language_info": {
   "codemirror_mode": {
    "name": "ipython",
    "version": 3
   },
   "file_extension": ".py",
   "mimetype": "text/x-python",
   "name": "python",
   "nbconvert_exporter": "python",
   "pygments_lexer": "ipython3",
   "version": "3.8.5"
  }
 },
 "nbformat": 4,
 "nbformat_minor": 4
}
