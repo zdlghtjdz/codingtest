{
 "cells": [
  {
   "cell_type": "code",
   "execution_count": 22,
   "metadata": {},
   "outputs": [
    {
     "name": "stdout",
     "output_type": "stream",
     "text": [
      "55-50+40\n",
      "55-50+40\n",
      "35\n",
      "[-55, 50, 40]\n"
     ]
    }
   ],
   "source": [
    "S = input()\n",
    "print(S)\n",
    "tmp = \"\"\n",
    "num_list = []\n",
    "oper_list = []\n",
    "minus = 0\n",
    "for i in range(len(S)) :\n",
    "    if S[i] == \"-\" :\n",
    "        num_list.append(int(tmp))\n",
    "        oper_list.append(-1)\n",
    "        if minus == 1:\n",
    "            minus = 0\n",
    "        elif minus == 0 :\n",
    "            minus = 1\n",
    "        tmp = \"\"\n",
    "    elif S[i] == \"+\" :\n",
    "        num_list.append(int(tmp))\n",
    "        if minus == 1 :\n",
    "            oper_list.append(-1)\n",
    "        else :\n",
    "            oper_list.append(+1)\n",
    "        tmp = \"\"\n",
    "    else :\n",
    "        tmp += S[i]\n",
    "\n",
    "num_list.append(int(tmp))\n",
    "\n",
    "for i in range(len(oper_list)) :\n",
    "    num_list[i] *= oper_list[i+1] \n",
    "\n",
    "    #print(tmp, end = ' ')\n",
    "print(sum(num_list))\n",
    "print(num_list)"
   ]
  },
  {
   "cell_type": "code",
   "execution_count": 13,
   "metadata": {},
   "outputs": [
    {
     "name": "stdout",
     "output_type": "stream",
     "text": [
      "55-50+40\n",
      "55-50+40\n",
      "['55', '50+40']\n"
     ]
    }
   ],
   "source": [
    "S = input()\n",
    "print(S)\n",
    "oper_list = []\n",
    "num_list = [0]\n",
    "tmp = \"\"\n",
    "\n",
    "a = S.split(\"-\")\n",
    "print(a)"
   ]
  },
  {
   "cell_type": "code",
   "execution_count": null,
   "metadata": {},
   "outputs": [],
   "source": []
  }
 ],
 "metadata": {
  "kernelspec": {
   "display_name": "Python 3",
   "language": "python",
   "name": "python3"
  },
  "language_info": {
   "codemirror_mode": {
    "name": "ipython",
    "version": 3
   },
   "file_extension": ".py",
   "mimetype": "text/x-python",
   "name": "python",
   "nbconvert_exporter": "python",
   "pygments_lexer": "ipython3",
   "version": "3.8.5"
  }
 },
 "nbformat": 4,
 "nbformat_minor": 4
}
