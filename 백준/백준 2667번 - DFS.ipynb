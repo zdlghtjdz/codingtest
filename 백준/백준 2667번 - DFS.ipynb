{
 "cells": [
  {
   "cell_type": "code",
   "execution_count": 28,
   "metadata": {
    "scrolled": true
   },
   "outputs": [
    {
     "name": "stdout",
     "output_type": "stream",
     "text": [
      "7\n",
      "0110100\n",
      "0110101\n",
      "1110101\n",
      "0000111\n",
      "0100000\n",
      "0111110\n",
      "0111000\n",
      "3\n",
      "7\n",
      "8\n",
      "9\n"
     ]
    }
   ],
   "source": [
    "# 백준 문제 2667번\n",
    "# 단지 번호 붙이기\n",
    "\n",
    "# 1은 집이 있는 곳, 0은 집이 없는 곳\n",
    "# 연결된 집의 모임 단지를 정의\n",
    "\n",
    "n = int(input())\n",
    "\n",
    "array = []\n",
    "for i in range(n):\n",
    "    array.append(list(map(int, input())))\n",
    "    \n",
    "#print(n)\n",
    "#print(array)\n",
    "\n",
    "def dfs(x, y):\n",
    "    global nums\n",
    "    if x < 0 or x >= n or y < 0 or y >= n:\n",
    "        return False    \n",
    "    if array[x][y] == 1 :\n",
    "        array[x][y] = 0\n",
    "        #print(x, y)\n",
    "        nums += 1\n",
    "        dfs(x - 1, y)\n",
    "        dfs(x + 1, y)\n",
    "        dfs(x, y - 1)\n",
    "        dfs(x, y + 1)\n",
    "        return True \n",
    "    return False\n",
    "\n",
    "result = 0\n",
    "nums = 0\n",
    "num = []\n",
    "\n",
    "for i in range(n):\n",
    "    for j in range(n):\n",
    "        if dfs(i, j) :\n",
    "            result += 1\n",
    "            num.append(nums)\n",
    "            nums = 0\n",
    "            \n",
    "print(result)\n",
    "num.sort()\n",
    "for i in range(len(num)):\n",
    "    print(num[i])"
   ]
  },
  {
   "cell_type": "code",
   "execution_count": null,
   "metadata": {},
   "outputs": [],
   "source": []
  }
 ],
 "metadata": {
  "kernelspec": {
   "display_name": "Python 3",
   "language": "python",
   "name": "python3"
  },
  "language_info": {
   "codemirror_mode": {
    "name": "ipython",
    "version": 3
   },
   "file_extension": ".py",
   "mimetype": "text/x-python",
   "name": "python",
   "nbconvert_exporter": "python",
   "pygments_lexer": "ipython3",
   "version": "3.8.5"
  }
 },
 "nbformat": 4,
 "nbformat_minor": 4
}
