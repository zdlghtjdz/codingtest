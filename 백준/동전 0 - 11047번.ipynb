{
 "cells": [
  {
   "cell_type": "code",
   "execution_count": 5,
   "metadata": {},
   "outputs": [
    {
     "name": "stdout",
     "output_type": "stream",
     "text": [
      "10 4200\n",
      "1\n",
      "5\n",
      "10\n",
      "50\n",
      "100\n",
      "500\n",
      "1000\n",
      "5000\n",
      "10000\n",
      "50000\n",
      "6\n"
     ]
    }
   ],
   "source": [
    "N, K = map(int, input().split())\n",
    "coin = []\n",
    "answer = 0\n",
    "\n",
    "for _ in range(N):\n",
    "    coin.append(int(input()))\n",
    "\n",
    "coin.sort(reverse=True)    \n",
    "    \n",
    "for i in range(len(coin)):\n",
    "    if K <= 0 :\n",
    "        break\n",
    "    if coin[i] > K :\n",
    "        continue\n",
    "    else :\n",
    "        \n",
    "        answer += K // coin[i]\n",
    "        K %= coin[i]\n",
    "            #print(coin[i])\n",
    "\n",
    "print(answer)\n"
   ]
  },
  {
   "cell_type": "code",
   "execution_count": null,
   "metadata": {},
   "outputs": [],
   "source": []
  }
 ],
 "metadata": {
  "kernelspec": {
   "display_name": "Python 3",
   "language": "python",
   "name": "python3"
  },
  "language_info": {
   "codemirror_mode": {
    "name": "ipython",
    "version": 3
   },
   "file_extension": ".py",
   "mimetype": "text/x-python",
   "name": "python",
   "nbconvert_exporter": "python",
   "pygments_lexer": "ipython3",
   "version": "3.8.5"
  }
 },
 "nbformat": 4,
 "nbformat_minor": 4
}
