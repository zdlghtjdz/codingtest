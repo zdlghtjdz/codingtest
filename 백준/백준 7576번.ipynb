{
 "cells": [
  {
   "cell_type": "code",
   "execution_count": 14,
   "metadata": {},
   "outputs": [
    {
     "name": "stdout",
     "output_type": "stream",
     "text": [
      "6 4\n",
      "0 0 0 0 0 0\n",
      "0 0 0 0 0 0\n",
      "0 0 0 0 0 0\n",
      "0 0 0 0 0 1\n",
      "[[0, 0, 0, 0, 0, 0], [0, 0, 0, 0, 0, 0], [0, 0, 0, 0, 0, 0], [0, 0, 0, 0, 0, 1]]\n",
      "3 5\n",
      "[[0, 0, 0, 0, 0, 0], [0, 0, 0, 0, 0, 0], [0, 0, 0, 0, 0, 0], [0, 0, 0, 0, 0, 1]]\n"
     ]
    }
   ],
   "source": [
    "#토마토\n",
    "\n",
    "from collections import deque\n",
    "\n",
    "m, n = map(int, input().split())\n",
    "array = []\n",
    "\n",
    "for i in range(n):\n",
    "    array.append(list(map(int,input().split())))\n",
    "    \n",
    "print(array)\n",
    "\n",
    "def bfs(x, y):\n",
    "    dx = [0, 1, 0, -1]\n",
    "    dy = [1, 0, -1, 0]\n",
    "    if x >= 0 and x < m and y >= 0 and y < n:\n",
    "        array[x][y] = -2\n",
    "        queue = deque((x, y))\n",
    "        while queue:\n",
    "            x, y = queue.popleft()\n",
    "            for i in range(4):\n",
    "                nx = x + dx[i]\n",
    "                ny = y + dy[i]\n",
    "                if nx >= 0 and nx < m and ny >= 0 and ny < n:\n",
    "                    if array[nx][ny] == 0 or array[nx][ny] == 1:\n",
    "                        array[nx][ny] = -2\n",
    "                        queue.append((nx, ny))\n",
    "        return True\n",
    "    else :\n",
    "        return False\n",
    "\n",
    "t = []\n",
    "\n",
    "# 익은 토마토들의 위치 파악\n",
    "for i in range(n):\n",
    "    for j in range(m):\n",
    "        if array[i][j] == 1:\n",
    "            t.append((i, j))\n",
    "\n",
    "            \n",
    "            \n",
    "            \n",
    "a, b = t.pop()\n",
    "print(a, b)\n",
    "bfs(a, b)\n",
    "\n",
    "print(array)\n",
    "\n",
    "\n",
    "    \n",
    "\n",
    "    "
   ]
  },
  {
   "cell_type": "code",
   "execution_count": null,
   "metadata": {},
   "outputs": [],
   "source": []
  }
 ],
 "metadata": {
  "kernelspec": {
   "display_name": "Python 3",
   "language": "python",
   "name": "python3"
  },
  "language_info": {
   "codemirror_mode": {
    "name": "ipython",
    "version": 3
   },
   "file_extension": ".py",
   "mimetype": "text/x-python",
   "name": "python",
   "nbconvert_exporter": "python",
   "pygments_lexer": "ipython3",
   "version": "3.8.5"
  }
 },
 "nbformat": 4,
 "nbformat_minor": 4
}
