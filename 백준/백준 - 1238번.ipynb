{
 "cells": [
  {
   "cell_type": "code",
   "execution_count": 3,
   "metadata": {},
   "outputs": [
    {
     "name": "stdout",
     "output_type": "stream",
     "text": [
      "4 8 2\n",
      "1 2 4\n",
      "1 3 2\n",
      "1 4 7\n",
      "2 1 1\n",
      "2 3 5\n",
      "3 1 2\n",
      "3 4 4\n",
      "4 2 3\n",
      "10\n"
     ]
    }
   ],
   "source": [
    "import heapq\n",
    "\n",
    "INF = int(1e9)\n",
    "\n",
    "N, M, X = map(int, input().split())\n",
    "\n",
    "graph = [[] for _ in range(N+1)]\n",
    "\n",
    "for _ in range(M):\n",
    "    a, b, T = map(int,input().split())\n",
    "    graph[a].append((b,T))\n",
    "    \n",
    "def dijkstra(start, end):\n",
    "    q = []\n",
    "    distance = [INF] * (N+1)\n",
    "    distance[start] = 0\n",
    "    heapq.heappush(q, (0, start))\n",
    "    \n",
    "    while q :\n",
    "        dist, now = heapq.heappop(q)\n",
    "        if dist > distance[now] :\n",
    "            continue\n",
    "        for i in graph[now] :\n",
    "            cost = dist + i[1]\n",
    "            if cost < distance[i[0]]:\n",
    "                distance[i[0]] = cost\n",
    "                heapq.heappush(q, (cost, i[0]))\n",
    "    return distance[end]\n",
    "\n",
    "answer = []\n",
    "\n",
    "for i in range(1, N+1):             \n",
    "    answer.append(dijkstra(i, X) + dijkstra(X, i))\n",
    "\n",
    "print(max(answer))\n"
   ]
  },
  {
   "cell_type": "code",
   "execution_count": null,
   "metadata": {},
   "outputs": [],
   "source": []
  }
 ],
 "metadata": {
  "kernelspec": {
   "display_name": "Python 3",
   "language": "python",
   "name": "python3"
  },
  "language_info": {
   "codemirror_mode": {
    "name": "ipython",
    "version": 3
   },
   "file_extension": ".py",
   "mimetype": "text/x-python",
   "name": "python",
   "nbconvert_exporter": "python",
   "pygments_lexer": "ipython3",
   "version": "3.8.5"
  }
 },
 "nbformat": 4,
 "nbformat_minor": 4
}
