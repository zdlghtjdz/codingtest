{
 "cells": [
  {
   "cell_type": "code",
   "execution_count": 4,
   "metadata": {},
   "outputs": [
    {
     "name": "stdout",
     "output_type": "stream",
     "text": [
      "189\n",
      "-1\n"
     ]
    }
   ],
   "source": [
    "A = 300\n",
    "B = 60\n",
    "C = 10\n",
    "a = 0\n",
    "b = 0\n",
    "c = 0\n",
    "T = int(input())\n",
    "\n",
    "if T >= A :\n",
    "    a = T // A\n",
    "    T = T % A\n",
    "    \n",
    "if T >= B :\n",
    "    b = T // B\n",
    "    T = T % B\n",
    "    \n",
    "if T >= C :\n",
    "    c = T // C\n",
    "    T = T % C\n",
    "    \n",
    "\n",
    "if T != 0 :\n",
    "    print(-1)\n",
    "else :\n",
    "    print(a, b, c)"
   ]
  },
  {
   "cell_type": "code",
   "execution_count": null,
   "metadata": {},
   "outputs": [],
   "source": []
  }
 ],
 "metadata": {
  "kernelspec": {
   "display_name": "Python 3",
   "language": "python",
   "name": "python3"
  },
  "language_info": {
   "codemirror_mode": {
    "name": "ipython",
    "version": 3
   },
   "file_extension": ".py",
   "mimetype": "text/x-python",
   "name": "python",
   "nbconvert_exporter": "python",
   "pygments_lexer": "ipython3",
   "version": "3.8.5"
  }
 },
 "nbformat": 4,
 "nbformat_minor": 4
}
