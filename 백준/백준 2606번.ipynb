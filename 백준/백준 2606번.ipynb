{
 "cells": [
  {
   "cell_type": "code",
   "execution_count": 2,
   "metadata": {},
   "outputs": [
    {
     "name": "stdout",
     "output_type": "stream",
     "text": [
      "7\n",
      "6\n",
      "1 2\n",
      "2 3\n",
      "1 5\n",
      "5 2\n",
      "5 6\n",
      "4 7\n",
      "[[], [2, 5], [1, 3, 5], [2], [7], [1, 2, 6], [5], [4]]\n",
      "5\n"
     ]
    }
   ],
   "source": [
    "# 백준 2606번 바이러스\n",
    "\n",
    "n = int(input()) # 컴퓨터의 수\n",
    "m = int(input()) # 연결되어 있는 쌍\n",
    "\n",
    "net = [[] for _ in range(n+1)]\n",
    "\n",
    "for i in range(m):\n",
    "    node1, node2 = map(int, input().split())\n",
    "    net[node1].append(node2)\n",
    "    net[node2].append(node1)\n",
    "    \n",
    "for i in range(n+1):\n",
    "    net[i].sort()\n",
    "    \n",
    "#print(net)\n",
    "\n",
    "def dfs(graph, v, visited):\n",
    "    global num\n",
    "    visited[v] = True\n",
    "    num += 1\n",
    "    for i in graph[v]:\n",
    "        if not visited[i]:\n",
    "            dfs(graph, i, visited)\n",
    "            \n",
    "visited = [False] * (n+1)\n",
    "num = 0\n",
    "dfs(net, 1, visited)\n",
    "\n",
    "if num > 0:\n",
    "    print(num - 1)\n",
    "else:\n",
    "    print(num)"
   ]
  },
  {
   "cell_type": "code",
   "execution_count": null,
   "metadata": {},
   "outputs": [],
   "source": []
  }
 ],
 "metadata": {
  "kernelspec": {
   "display_name": "Python 3",
   "language": "python",
   "name": "python3"
  },
  "language_info": {
   "codemirror_mode": {
    "name": "ipython",
    "version": 3
   },
   "file_extension": ".py",
   "mimetype": "text/x-python",
   "name": "python",
   "nbconvert_exporter": "python",
   "pygments_lexer": "ipython3",
   "version": "3.8.5"
  }
 },
 "nbformat": 4,
 "nbformat_minor": 4
}
