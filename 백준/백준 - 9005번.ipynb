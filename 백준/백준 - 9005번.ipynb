{
 "cells": [
  {
   "cell_type": "code",
   "execution_count": 4,
   "metadata": {},
   "outputs": [
    {
     "name": "stdout",
     "output_type": "stream",
     "text": [
      "3\n",
      "4\n",
      "7\n",
      "10\n",
      "7\n",
      "44\n",
      "274\n"
     ]
    }
   ],
   "source": [
    "T = int(input())\n",
    "case = []\n",
    "answer = []\n",
    "for i in range(T):\n",
    "    case.append(int(input()))\n",
    "\n",
    "table = [0] * 12\n",
    "\n",
    "table[1] = 1\n",
    "table[2] = 2\n",
    "table[3] = 4\n",
    "\n",
    "for i in range(4,12):\n",
    "    table[i] = table[i-1] + table[i-2] + table[i-3]\n",
    "\n",
    "\n",
    "for i in case:\n",
    "    answer.append(table[i])\n",
    "        \n",
    "for i in answer:\n",
    "    print(i)\n"
   ]
  },
  {
   "cell_type": "code",
   "execution_count": null,
   "metadata": {},
   "outputs": [],
   "source": []
  }
 ],
 "metadata": {
  "kernelspec": {
   "display_name": "Python 3",
   "language": "python",
   "name": "python3"
  },
  "language_info": {
   "codemirror_mode": {
    "name": "ipython",
    "version": 3
   },
   "file_extension": ".py",
   "mimetype": "text/x-python",
   "name": "python",
   "nbconvert_exporter": "python",
   "pygments_lexer": "ipython3",
   "version": "3.8.5"
  }
 },
 "nbformat": 4,
 "nbformat_minor": 4
}
