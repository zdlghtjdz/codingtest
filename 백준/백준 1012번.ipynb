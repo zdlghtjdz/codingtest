{
 "cells": [
  {
   "cell_type": "code",
   "execution_count": 1,
   "metadata": {},
   "outputs": [
    {
     "name": "stdout",
     "output_type": "stream",
     "text": [
      "2\n",
      "10 8 17\n",
      "0 0\n",
      "1 0\n",
      "1 1\n",
      "4 2\n",
      "4 3\n",
      "4 5\n",
      "2 4\n",
      "3 4\n",
      "7 4\n",
      "8 4\n",
      "9 4\n",
      "7 5\n",
      "8 5\n",
      "9 5\n",
      "7 6\n",
      "8 6\n",
      "9 6\n",
      "10 10 1\n",
      "5 5\n",
      "5\n",
      "1\n"
     ]
    }
   ],
   "source": [
    "def dfs(case ,x, y) :\n",
    "    dx = [0, 1, 0, -1]\n",
    "    dy = [1, 0, -1, 0]\n",
    "    if array_set[case][y][x] == 1:\n",
    "        array_set[case][y][x] = 2\n",
    "        for i in range(4):\n",
    "            nx = x + dx[i]\n",
    "            ny = y + dy[i]\n",
    "            if 0 <= nx and nx < m_set[case] and 0 <= ny and ny < n_set[case] :\n",
    "                if array_set[case][ny][nx] == 1:\n",
    "                    dfs(case, nx, ny)\n",
    "                else :\n",
    "                    continue\n",
    "            else :\n",
    "                continue\n",
    "        return True\n",
    "    else :\n",
    "        return False\n",
    "\n",
    "case = int(input()) # 테스트 케이스 수\n",
    "array_set = list()\n",
    "m_set = list()\n",
    "n_set = list()\n",
    "    \n",
    "for j in range(case):\n",
    "    m, n, k = map(int, input().split()) # m 가로 길이, n 세로길이, k 배추가 심어져 있는 위치의 개수\n",
    "    array = [[0]*m for _ in range(n)]    \n",
    "    for i in range(k):\n",
    "        x, y = map(int, input().split())\n",
    "        array[y][x] = 1\n",
    "    array_set.append(array)\n",
    "    m_set.append(m)\n",
    "    n_set.append(n)\n",
    "    \n",
    "result_set = []\n",
    "   \n",
    "# for i in range(case):\n",
    "#     for j in range(n_set[i]):\n",
    "#         print(array_set[i][j])\n",
    "                        \n",
    "for p in range(case):\n",
    "    result = 0\n",
    "    an = n_set[p]\n",
    "    am = m_set[p]\n",
    "    #print(an, am)\n",
    "    for i in range(an):\n",
    "        for j in range(am):\n",
    "            if dfs(p ,j, i):\n",
    "                result += 1\n",
    "    result_set.append(result)\n",
    "        \n",
    "for i in range(case):\n",
    "    print(result_set[i])"
   ]
  },
  {
   "cell_type": "code",
   "execution_count": 60,
   "metadata": {},
   "outputs": [
    {
     "name": "stdout",
     "output_type": "stream",
     "text": [
      "2\n",
      "10 8 17\n",
      "0 0\n",
      "1 0\n",
      "1 1\n",
      "4 2\n",
      "4 3\n",
      "4 5\n",
      "2 4\n",
      "3 4\n",
      "7 4\n",
      "8 4\n",
      "9 4\n",
      "7 5\n",
      "8 5\n",
      "9 5\n",
      "7 6\n",
      "8 6\n",
      "9 6\n",
      "10 10 1\n",
      "5 5\n",
      "5\n",
      "1\n"
     ]
    }
   ],
   "source": []
  },
  {
   "cell_type": "code",
   "execution_count": null,
   "metadata": {},
   "outputs": [],
   "source": []
  }
 ],
 "metadata": {
  "kernelspec": {
   "display_name": "Python 3",
   "language": "python",
   "name": "python3"
  },
  "language_info": {
   "codemirror_mode": {
    "name": "ipython",
    "version": 3
   },
   "file_extension": ".py",
   "mimetype": "text/x-python",
   "name": "python",
   "nbconvert_exporter": "python",
   "pygments_lexer": "ipython3",
   "version": "3.8.5"
  }
 },
 "nbformat": 4,
 "nbformat_minor": 4
}
