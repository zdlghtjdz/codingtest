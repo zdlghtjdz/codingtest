{
 "cells": [
  {
   "cell_type": "code",
   "execution_count": 25,
   "metadata": {},
   "outputs": [
    {
     "name": "stdout",
     "output_type": "stream",
     "text": [
      "2\n",
      "5\n",
      "3 2\n",
      "1 4\n",
      "4 1\n",
      "2 3\n",
      "5 5\n",
      "7\n",
      "3 6\n",
      "7 3\n",
      "4 2\n",
      "1 4\n",
      "5 7\n",
      "2 5\n",
      "6 1\n",
      "[[0, 4, 3, 2, 1, 5], [0, 4, 5, 6, 2, 7, 1, 3]]\n",
      "4\n",
      "3\n"
     ]
    }
   ],
   "source": [
    "# python3 실패, pypy3 통과\n",
    "import heapq\n",
    "\n",
    "T = int(input())\n",
    "test_case = []\n",
    "for i in range(T):\n",
    "    N = int(input())\n",
    "    tmp = [0] * (N+1)\n",
    "    for j in range(N):\n",
    "        rank_p, rank_i = map(int, input().split())\n",
    "        tmp[rank_p] = rank_i\n",
    "    test_case.append(tmp)    \n",
    "\n",
    "#print(test_case)\n",
    "\n",
    "for i in test_case :\n",
    "    start = i[1]\n",
    "    answer = 1\n",
    "    for j in range(2,len(i)):\n",
    "        if start > i[j]:\n",
    "            answer += 1\n",
    "            start = i[j]\n",
    "            #print(i[j])\n",
    "    print(answer)"
   ]
  },
  {
   "cell_type": "code",
   "execution_count": null,
   "metadata": {},
   "outputs": [],
   "source": [
    "5"
   ]
  }
 ],
 "metadata": {
  "kernelspec": {
   "display_name": "Python 3",
   "language": "python",
   "name": "python3"
  },
  "language_info": {
   "codemirror_mode": {
    "name": "ipython",
    "version": 3
   },
   "file_extension": ".py",
   "mimetype": "text/x-python",
   "name": "python",
   "nbconvert_exporter": "python",
   "pygments_lexer": "ipython3",
   "version": "3.8.5"
  }
 },
 "nbformat": 4,
 "nbformat_minor": 4
}
