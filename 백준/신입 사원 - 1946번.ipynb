{
 "cells": [
  {
   "cell_type": "code",
   "execution_count": 6,
   "metadata": {},
   "outputs": [
    {
     "name": "stdout",
     "output_type": "stream",
     "text": [
      "1\n",
      "7\n",
      "3 6\n",
      "7 3\n",
      "4 2\n",
      "1 4\n",
      "5 7\n",
      "2 5\n",
      "6 1\n",
      "[[(3, 6), (7, 3), (4, 2), (1, 4), (5, 7), (2, 5), (6, 1)]]\n",
      "[(1, 4), (2, 5), (3, 6), (4, 2), (5, 7), (6, 1), (7, 3)]\n",
      "[(6, 1), (4, 2), (7, 3), (1, 4), (2, 5), (3, 6), (5, 7)]\n"
     ]
    }
   ],
   "source": [
    "T = int(input())\n",
    "test_case = []\n",
    "for i in range(T):\n",
    "    N = int(input())\n",
    "    tmp = []\n",
    "    for j in range(N):\n",
    "        rank_p, rank_i = map(int, input().split())\n",
    "        tmp.append((rank_p, rank_i))\n",
    "    test_case.append(tmp)    \n",
    "\n",
    "print(test_case)\n",
    "\n",
    "for i in range(T) :\n",
    "    tmp = test_case[i]\n",
    "    tmp = sorted(tmp, key = lambda x : x[0])\n",
    "    print(tmp)\n",
    "    tmp = sorted(tmp, key = lambda x : x[1])\n",
    "    print(tmp)\n"
   ]
  },
  {
   "cell_type": "code",
   "execution_count": null,
   "metadata": {},
   "outputs": [],
   "source": []
  }
 ],
 "metadata": {
  "kernelspec": {
   "display_name": "Python 3",
   "language": "python",
   "name": "python3"
  },
  "language_info": {
   "codemirror_mode": {
    "name": "ipython",
    "version": 3
   },
   "file_extension": ".py",
   "mimetype": "text/x-python",
   "name": "python",
   "nbconvert_exporter": "python",
   "pygments_lexer": "ipython3",
   "version": "3.8.5"
  }
 },
 "nbformat": 4,
 "nbformat_minor": 4
}
