{
 "cells": [
  {
   "cell_type": "code",
   "execution_count": 8,
   "metadata": {},
   "outputs": [
    {
     "name": "stdout",
     "output_type": "stream",
     "text": [
      "6\n",
      "6\n",
      "10\n",
      "13\n",
      "9\n",
      "8\n",
      "1\n",
      "[0, 6, 16, 23, 28, 33, 33]\n"
     ]
    }
   ],
   "source": [
    "n = int(input())\n",
    "\n",
    "num = [0]\n",
    "\n",
    "for _ in range(n):\n",
    "    num.append(int(input()))\n",
    "\n",
    "if n == 1:\n",
    "    print(num[1])\n",
    "elif n == 2 :\n",
    "    print(num[1] + num[2])\n",
    "elif n > 2 :   \n",
    "    dp = [0] * (n+1)\n",
    "    dp[1] = num[1]\n",
    "    for i in range(2, n+1):\n",
    "        dp[i] = max(dp[i-1], num[i] + dp[i-2], num[i] + num[i-1] + dp[i-3])\n",
    "\n",
    "    print(dp[n])"
   ]
  },
  {
   "cell_type": "code",
   "execution_count": null,
   "metadata": {},
   "outputs": [],
   "source": []
  }
 ],
 "metadata": {
  "kernelspec": {
   "display_name": "Python 3",
   "language": "python",
   "name": "python3"
  },
  "language_info": {
   "codemirror_mode": {
    "name": "ipython",
    "version": 3
   },
   "file_extension": ".py",
   "mimetype": "text/x-python",
   "name": "python",
   "nbconvert_exporter": "python",
   "pygments_lexer": "ipython3",
   "version": "3.8.5"
  }
 },
 "nbformat": 4,
 "nbformat_minor": 4
}
