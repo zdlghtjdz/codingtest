{
 "cells": [
  {
   "cell_type": "code",
   "execution_count": 13,
   "metadata": {
    "scrolled": true
   },
   "outputs": [
    {
     "name": "stdout",
     "output_type": "stream",
     "text": [
      "11\n",
      "1 4\n",
      "3 5\n",
      "0 6\n",
      "5 7\n",
      "3 8\n",
      "5 9\n",
      "6 10\n",
      "8 11\n",
      "8 12\n",
      "2 13\n",
      "12 14\n",
      "[(1, 4), (3, 5), (0, 6), (5, 7), (3, 8), (5, 9), (6, 10), (8, 11), (8, 12), (2, 13), (12, 14)]\n",
      "4\n"
     ]
    }
   ],
   "source": [
    "N = int(input())\n",
    "time = []\n",
    "\n",
    "for _ in range(N) : \n",
    "    s, e = map(int, input().split())\n",
    "    time.append((s, e))\n",
    "\n",
    "#print(time)\n",
    "\n",
    "time = sorted(time, key = lambda x : (x[1], x[0]) )\n",
    "\n",
    "prev_s = 0\n",
    "prev_e = 0\n",
    "answer = 0\n",
    "\n",
    "for i in time :\n",
    "    now_s, now_e = i\n",
    "    if now_s < prev_e :\n",
    "        continue\n",
    "    else :\n",
    "        answer += 1\n",
    "        prev_s = now_s\n",
    "        prev_e = now_e\n",
    "print(answer)"
   ]
  },
  {
   "cell_type": "code",
   "execution_count": null,
   "metadata": {},
   "outputs": [],
   "source": []
  }
 ],
 "metadata": {
  "kernelspec": {
   "display_name": "Python 3",
   "language": "python",
   "name": "python3"
  },
  "language_info": {
   "codemirror_mode": {
    "name": "ipython",
    "version": 3
   },
   "file_extension": ".py",
   "mimetype": "text/x-python",
   "name": "python",
   "nbconvert_exporter": "python",
   "pygments_lexer": "ipython3",
   "version": "3.8.5"
  }
 },
 "nbformat": 4,
 "nbformat_minor": 4
}
