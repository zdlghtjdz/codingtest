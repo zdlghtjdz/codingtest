{
 "cells": [
  {
   "cell_type": "code",
   "execution_count": 28,
   "metadata": {},
   "outputs": [
    {
     "name": "stdout",
     "output_type": "stream",
     "text": [
      "6\n",
      "1 99 1 2 3 4\n",
      "[1, 1, 1, 1, 1, 1]\n",
      "99 1\n",
      "[1, 2, 1, 1, 1, 1]\n",
      "[1, 2, 1, 1, 1, 1]\n",
      "2 1\n",
      "2 1\n",
      "[1, 2, 1, 2, 1, 1]\n",
      "3 1\n",
      "3 1\n",
      "3 2\n",
      "[1, 2, 1, 2, 3, 1]\n",
      "4 1\n",
      "4 1\n",
      "4 2\n",
      "4 3\n",
      "[1, 2, 1, 2, 3, 4]\n",
      "4\n"
     ]
    }
   ],
   "source": [
    "n = int(input())\n",
    "A = list(map(int, input().split()))\n",
    "\n",
    "if n == 1 :\n",
    "    print(1)\n",
    "else :\n",
    "    dp = [1] * n\n",
    "\n",
    "    for i in range(0, n):\n",
    "        for j in range(0, i):\n",
    "            if A[j] < A[i]:\n",
    "                print(A[i], A[j])\n",
    "                dp[i] = max(dp[i], dp[j] + 1)\n",
    "   \n",
    "    print(max(dp))"
   ]
  },
  {
   "cell_type": "code",
   "execution_count": null,
   "metadata": {},
   "outputs": [],
   "source": [
    "# 1 99 1 2 3 4"
   ]
  },
  {
   "cell_type": "code",
   "execution_count": null,
   "metadata": {},
   "outputs": [],
   "source": []
  }
 ],
 "metadata": {
  "kernelspec": {
   "display_name": "Python 3",
   "language": "python",
   "name": "python3"
  },
  "language_info": {
   "codemirror_mode": {
    "name": "ipython",
    "version": 3
   },
   "file_extension": ".py",
   "mimetype": "text/x-python",
   "name": "python",
   "nbconvert_exporter": "python",
   "pygments_lexer": "ipython3",
   "version": "3.8.5"
  }
 },
 "nbformat": 4,
 "nbformat_minor": 4
}
