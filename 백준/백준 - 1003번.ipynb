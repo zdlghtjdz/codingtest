{
 "cells": [
  {
   "cell_type": "code",
   "execution_count": 2,
   "metadata": {},
   "outputs": [
    {
     "name": "stdout",
     "output_type": "stream",
     "text": [
      "3\n",
      "0\n",
      "1\n",
      "3\n",
      "1 0\n",
      "0 1\n",
      "1 2\n"
     ]
    }
   ],
   "source": [
    "T = int(input())\n",
    "\n",
    "case = []\n",
    "\n",
    "for _ in range(T) :\n",
    "    case.append(int(input()))\n",
    "\n",
    "table0 = [0] * (max(case) + 1)    \n",
    "table1 = [0] * (max(case) + 1)\n",
    "\n",
    "# N은 40보다 작거나 같은 자연수 or 0\n",
    "\n",
    "table0[0] = 1\n",
    "table1[0] = 0\n",
    "\n",
    "if max(case) >= 1:\n",
    "    table0[1] = 0\n",
    "    table1[1] = 1\n",
    "\n",
    "if max(case) >= 2:\n",
    "    for i in range(2,max(case) + 1) :\n",
    "        table0[i] = table0[i-1] + table0[i-2]\n",
    "        table1[i] = table1[i-1] + table1[i-2]\n",
    "        \n",
    "for j in case:\n",
    "    print(table0[j], table1[j])\n",
    "        \n",
    "    \n",
    "    "
   ]
  },
  {
   "cell_type": "code",
   "execution_count": null,
   "metadata": {},
   "outputs": [],
   "source": []
  }
 ],
 "metadata": {
  "kernelspec": {
   "display_name": "Python 3",
   "language": "python",
   "name": "python3"
  },
  "language_info": {
   "codemirror_mode": {
    "name": "ipython",
    "version": 3
   },
   "file_extension": ".py",
   "mimetype": "text/x-python",
   "name": "python",
   "nbconvert_exporter": "python",
   "pygments_lexer": "ipython3",
   "version": "3.8.5"
  }
 },
 "nbformat": 4,
 "nbformat_minor": 4
}
