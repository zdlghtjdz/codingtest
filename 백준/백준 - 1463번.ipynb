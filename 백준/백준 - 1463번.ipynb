{
 "cells": [
  {
   "cell_type": "code",
   "execution_count": 6,
   "metadata": {},
   "outputs": [
    {
     "name": "stdout",
     "output_type": "stream",
     "text": [
      "10\n",
      "3\n"
     ]
    }
   ],
   "source": [
    "# 3으로 나누어 떨어지면, 3으로 나눈다.\n",
    "# 2로 나누어 떨어지면, 2로 나눈다.\n",
    "# 1을 뺀다.\n",
    "\n",
    "N = int(input())\n",
    "\n",
    "table = [9999] * (N+1)\n",
    "if N >= 1:\n",
    "    table[1] = 0\n",
    "if N >= 2:\n",
    "    table[2] = 1\n",
    "if N >= 3:\n",
    "    table[3] = 1\n",
    "if N >= 4 :\n",
    "    for i in range(4,N+1):\n",
    "        tmp1, tmp2, tmp3 = 9999, 9999, 9999\n",
    "        if i % 3 == 0:\n",
    "            tmp1 = table[i // 3] + 1\n",
    "        if i % 2 == 0:\n",
    "            tmp2 = table[i // 2] + 1\n",
    "        if i - 1 >= 1 :\n",
    "            tmp3 = table[i - 1] + 1\n",
    "        \n",
    "        table[i] = min(tmp1, tmp2, tmp3)\n",
    "\n",
    "print(table[N])\n",
    "        \n",
    "        \n",
    "        "
   ]
  },
  {
   "cell_type": "code",
   "execution_count": null,
   "metadata": {},
   "outputs": [],
   "source": []
  }
 ],
 "metadata": {
  "kernelspec": {
   "display_name": "Python 3",
   "language": "python",
   "name": "python3"
  },
  "language_info": {
   "codemirror_mode": {
    "name": "ipython",
    "version": 3
   },
   "file_extension": ".py",
   "mimetype": "text/x-python",
   "name": "python",
   "nbconvert_exporter": "python",
   "pygments_lexer": "ipython3",
   "version": "3.8.5"
  }
 },
 "nbformat": 4,
 "nbformat_minor": 4
}
