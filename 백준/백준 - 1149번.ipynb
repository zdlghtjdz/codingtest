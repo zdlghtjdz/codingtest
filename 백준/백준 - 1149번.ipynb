{
 "cells": [
  {
   "cell_type": "code",
   "execution_count": 31,
   "metadata": {},
   "outputs": [
    {
     "name": "stdout",
     "output_type": "stream",
     "text": [
      "3\n",
      "1 100 200\n",
      "1 201 101\n",
      "202 102 1\n",
      "102\n"
     ]
    }
   ],
   "source": [
    "# 실패 - DP를 그리디 알고리즘으로 해결하려고 했음\n",
    "N = int(input())\n",
    "\n",
    "cost = []\n",
    "\n",
    "for _ in range(N):\n",
    "    tmp = list(map(int, input().split()))\n",
    "    cost.append(tmp)\n",
    "\n",
    "table = []\n",
    "\n",
    "for i in range(N):\n",
    "    tmp1 = []\n",
    "    for j in range(3):\n",
    "        tmp2 = (cost[i][j], j)\n",
    "        tmp1.append(tmp2)\n",
    "    table.append(tmp1)\n",
    "\n",
    "#print()\n",
    "#print(table)    \n",
    "#print()\n",
    "\n",
    "for i in range(N):\n",
    "    table[i] = sorted(table[i], key= lambda x : x[0])\n",
    "\n",
    "answer = [] \n",
    "\n",
    "for i in range(3):\n",
    "    start = i\n",
    "    value = table[0][i][0]\n",
    "    for j in range(1,N):\n",
    "        min = 1001\n",
    "        tmp3 = -1\n",
    "        for k in range(3):\n",
    "            if table[j][k][1] == start:\n",
    "                continue\n",
    "            elif table[j][k][0] < min :\n",
    "                min = table[j][k][0]\n",
    "                tmp3 = table[j][k][1]\n",
    "                #print(tmp3, end = ' ')\n",
    "        value += min\n",
    "        start = tmp3\n",
    "        #print(min, end = ' ')\n",
    "        #print(start)\n",
    "    answer.append(value)\n",
    "    \n",
    "answer.sort()\n",
    "print(answer[0])"
   ]
  },
  {
   "cell_type": "code",
   "execution_count": 28,
   "metadata": {},
   "outputs": [
    {
     "name": "stdout",
     "output_type": "stream",
     "text": [
      "3\n",
      "1 100 200\n",
      "1 201 101\n",
      "202 102 1\n",
      "102\n",
      "[[0, 0, 0], [1, 100, 200], [101, 202, 102], [102, 203, 304], [0, 0, 0], [0, 0, 0], [0, 0, 0], [0, 0, 0], [0, 0, 0], [0, 0, 0]]\n"
     ]
    }
   ],
   "source": [
    "# 2차 시도\n",
    "\n",
    "N = int(input())\n",
    "\n",
    "cost = [[0, 0, 0]]\n",
    "\n",
    "for _ in range(N):\n",
    "    tmp = list(map(int, input().split()))\n",
    "    cost.append(tmp)\n",
    "\n",
    "table = [[0, 0, 0] for _ in range(10)]\n",
    "\n",
    "for i in range(1,N+1):\n",
    "    for j in range(3):\n",
    "        if j == 0:\n",
    "            table[i][j] = min(table[i-1][1], table[i-1][2]) + cost[i][j]\n",
    "        elif j == 1 :\n",
    "            table[i][j] = min(table[i-1][0], table[i-1][2]) + cost[i][j]\n",
    "        else :\n",
    "            table[i][j] = min(table[i-1][0], table[i-1][1]) + cost[i][j]\n",
    "table[N].sort()            \n",
    "print(table[N][0])\n",
    "#print(table[N])\n",
    "#print(table)"
   ]
  },
  {
   "cell_type": "code",
   "execution_count": null,
   "metadata": {},
   "outputs": [],
   "source": []
  }
 ],
 "metadata": {
  "kernelspec": {
   "display_name": "Python 3",
   "language": "python",
   "name": "python3"
  },
  "language_info": {
   "codemirror_mode": {
    "name": "ipython",
    "version": 3
   },
   "file_extension": ".py",
   "mimetype": "text/x-python",
   "name": "python",
   "nbconvert_exporter": "python",
   "pygments_lexer": "ipython3",
   "version": "3.8.5"
  }
 },
 "nbformat": 4,
 "nbformat_minor": 4
}
