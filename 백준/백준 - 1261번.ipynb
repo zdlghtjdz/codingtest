{
 "cells": [
  {
   "cell_type": "code",
   "execution_count": 1,
   "metadata": {},
   "outputs": [
    {
     "name": "stdout",
     "output_type": "stream",
     "text": [
      "3 3\n",
      "011\n",
      "111\n",
      "110\n",
      "3\n"
     ]
    }
   ],
   "source": [
    "import heapq\n",
    "import sys\n",
    "\n",
    "INF = int(1e9)\n",
    "M, N = map(int, input().split())\n",
    "\n",
    "map_ = [0]\n",
    "for _ in range(N):\n",
    "    temp = list(map(int, input()))\n",
    "    map_ += temp\n",
    "             \n",
    "#print(map_)\n",
    "\n",
    "distance = [INF] * (N*M + 1)\n",
    "graph = [[] for _ in range(N*M + 1)]\n",
    "\n",
    "for i in range(1, N*M + 1):\n",
    "    if i - 1 >= 1 and ((i-1) % M) != 0  :\n",
    "        graph[i].append((map_[i-1],i-1))            \n",
    "    if i + 1 <= N*M and (i % M) != 0 :\n",
    "        graph[i].append((map_[i+1],i+1))\n",
    "    if i + M <= N*M :\n",
    "        graph[i].append((map_[i+M],i+M))\n",
    "    if i - M >= 1 :\n",
    "        graph[i].append((map_[i-M],i-M))\n",
    "        \n",
    "#print(graph)\n",
    "\n",
    "def dijkstra(start):\n",
    "    q = []\n",
    "    distance[start] = 0\n",
    "    heapq.heappush(q, (0, start))\n",
    "    \n",
    "    while q :\n",
    "        dist, now = heapq.heappop(q)\n",
    "        if distance[now] < dist :\n",
    "            continue\n",
    "        for i in graph[now]:\n",
    "            cost = dist + i[0]\n",
    "            if cost < distance[i[1]]:\n",
    "                distance[i[1]] = cost\n",
    "                heapq.heappush(q, (cost, i[1]))\n",
    "\n",
    "dijkstra(1)\n",
    "print(distance[N*M])    "
   ]
  },
  {
   "cell_type": "code",
   "execution_count": 12,
   "metadata": {},
   "outputs": [
    {
     "data": {
      "text/plain": [
       "[1, 2, 2, 3]"
      ]
     },
     "execution_count": 12,
     "metadata": {},
     "output_type": "execute_result"
    }
   ],
   "source": [
    "a = [1, 2]\n",
    "b = [2 ,3]\n",
    "c = a  + b\n",
    "c"
   ]
  },
  {
   "cell_type": "code",
   "execution_count": null,
   "metadata": {},
   "outputs": [],
   "source": []
  }
 ],
 "metadata": {
  "kernelspec": {
   "display_name": "Python 3",
   "language": "python",
   "name": "python3"
  },
  "language_info": {
   "codemirror_mode": {
    "name": "ipython",
    "version": 3
   },
   "file_extension": ".py",
   "mimetype": "text/x-python",
   "name": "python",
   "nbconvert_exporter": "python",
   "pygments_lexer": "ipython3",
   "version": "3.8.5"
  }
 },
 "nbformat": 4,
 "nbformat_minor": 4
}
