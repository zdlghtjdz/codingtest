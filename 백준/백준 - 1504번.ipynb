{
 "cells": [
  {
   "cell_type": "code",
   "execution_count": 8,
   "metadata": {},
   "outputs": [
    {
     "name": "stdout",
     "output_type": "stream",
     "text": [
      "4 6\n",
      "1 2 3\n",
      "2 3 3\n",
      "3 4 1\n",
      "1 3 5\n",
      "2 4 5\n",
      "1 4 4\n",
      "2 3\n",
      "7\n"
     ]
    }
   ],
   "source": [
    "# 시간 초과 - 워셜 플로이드 알고리즘. X\n",
    "\n",
    "import sys\n",
    "\n",
    "input = sys.stdin.readline\n",
    "\n",
    "INF = int(1e9)\n",
    "\n",
    "N, E = map(int, input().split())\n",
    "\n",
    "graph = [[INF] * (N + 1) for _ in range(N + 1)]\n",
    "\n",
    "\n",
    "for _ in range(E):\n",
    "    a, b, c = map(int, input().split())\n",
    "    graph[a][b] = c\n",
    "    graph[b][a] = c\n",
    "\n",
    "v1, v2 = map(int, input().split())    \n",
    "    \n",
    "for k in range(N + 1):\n",
    "    for i in range(N + 1) :\n",
    "        for j in range(N + 1):\n",
    "            graph[i][j] = min(graph[i][j], graph[i][k] + graph[k][j])\n",
    "\n",
    "print(graph[1][v1] + graph[v1][v2] + graph[v2][N])\n"
   ]
  },
  {
   "cell_type": "code",
   "execution_count": 16,
   "metadata": {},
   "outputs": [
    {
     "name": "stdout",
     "output_type": "stream",
     "text": [
      "4 6\n",
      "1 2 3\n",
      "2 3 3\n",
      "3 4 1\n",
      "1 3 5\n",
      "2 4 5\n",
      "1 4 4\n",
      "3 2\n",
      "[1000000000, 0, 3, 5, 4] [1000000000, 5, 3, 0, 1] [1000000000, 3, 0, 3, 4]\n",
      "[[], [(2, 3), (3, 5), (4, 4)], [(1, 3), (3, 3), (4, 5)], [(2, 3), (4, 1), (1, 5)], [(3, 1), (2, 5), (1, 4)]]\n",
      "7\n"
     ]
    }
   ],
   "source": [
    "import sys\n",
    "import heapq\n",
    "\n",
    "#input = sys.stdin.readline # 백준 통과용\n",
    "\n",
    "INF = int(1e9)\n",
    "\n",
    "N, E = map(int, input().split()) #(2 ≤ N ≤ 800, 0 ≤ E ≤ 200,000)\n",
    "\n",
    "graph = [[] for _ in range(N + 1)]\n",
    "\n",
    "# 1 -> v2 -> v1 -> N\n",
    "# 1 -> v1 -> v2 -> N\n",
    "\n",
    "for _ in range(E):\n",
    "    a, b, c = map(int, input().split()) #  (1 ≤ c ≤ 1,000) \n",
    "    graph[a].append((b,c))\n",
    "    graph[b].append((a,c))\n",
    "    \n",
    "v1, v2 = map(int, input().split())\n",
    "\n",
    "def dijkstra(start):\n",
    "    q = []\n",
    "    distance = [INF] * (N + 1)\n",
    "    heapq.heappush(q, (0, start))\n",
    "    distance[start] = 0\n",
    "    while q :\n",
    "        dist, now = heapq.heappop(q)\n",
    "        if dist > distance[now]:\n",
    "            continue\n",
    "        for i in graph[now]:\n",
    "            cost = dist + i[1]\n",
    "            if cost < distance[i[0]]:\n",
    "                distance[i[0]] = cost\n",
    "                heapq.heappush(q, (cost, i[0]))\n",
    "    return distance\n",
    "answer1 = 0\n",
    "answer2 = 0\n",
    "dist_1 = dijkstra(1)\n",
    "dist_v1 = dijkstra(v1)\n",
    "dist_v2 = dijkstra(v2)\n",
    "\n",
    "#print(dist_1, dist_v1, dist_v2)\n",
    "#print(graph)\n",
    "\n",
    "\n",
    "answer1 = dist_1[v1] + dist_v1[v2] + dist_v2[N]\n",
    "answer2 = dist_1[v2] + dist_v2[v1] + dist_v1[N]\n",
    "\n",
    "answer = min(answer1, answer2)\n",
    "print(answer if answer < INF else -1)\n",
    "            "
   ]
  },
  {
   "cell_type": "markdown",
   "metadata": {},
   "source": [
    "## 4 6\n",
    "1 2 3\n",
    "2 3 3\n",
    "3 4 1\n",
    "1 3 5\n",
    "2 4 5\n",
    "1 4 4\n",
    "2 3\n",
    "7"
   ]
  },
  {
   "cell_type": "code",
   "execution_count": null,
   "metadata": {},
   "outputs": [],
   "source": [
    "4 6\n",
    "1 2 3\n",
    "2 3 3\n",
    "3 4 1\n",
    "1 3 5\n",
    "2 4 5\n",
    "1 4 4\n",
    "1 4"
   ]
  }
 ],
 "metadata": {
  "kernelspec": {
   "display_name": "Python 3",
   "language": "python",
   "name": "python3"
  },
  "language_info": {
   "codemirror_mode": {
    "name": "ipython",
    "version": 3
   },
   "file_extension": ".py",
   "mimetype": "text/x-python",
   "name": "python",
   "nbconvert_exporter": "python",
   "pygments_lexer": "ipython3",
   "version": "3.8.5"
  }
 },
 "nbformat": 4,
 "nbformat_minor": 4
}
