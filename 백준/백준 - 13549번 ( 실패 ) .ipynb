{
 "cells": [
  {
   "cell_type": "code",
   "execution_count": 46,
   "metadata": {},
   "outputs": [
    {
     "name": "stdout",
     "output_type": "stream",
     "text": [
      "9 100000\n",
      "7\n"
     ]
    }
   ],
   "source": [
    "import heapq\n",
    "\n",
    "INF = int(1e9)\n",
    "\n",
    "N, K = map(int, input().split())\n",
    "\n",
    "# 수빈은 N 동생은 K\n",
    "# 수빈의 움직임 x-1 or x+1 (걸을 경우 1초) or 2*x (순간이동은 0초)\n",
    "\n",
    "l = max(N, K)\n",
    "#print(l)\n",
    "distance = [INF] * 100001\n",
    "graph = [[] for _ in range(100001)]\n",
    "\n",
    "for i in range(0, l+1):\n",
    "    a = i\n",
    "    while a*2 <= K and a != 0:\n",
    "        graph[i].append((a*2, 0))\n",
    "        a *= 2\n",
    "    if i - 1 >= 0 :\n",
    "        graph[i].append((i-1, 1))\n",
    "    if i + 1 <= K :\n",
    "        graph[i].append((i+1, 1))\n",
    "    \n",
    "    \n",
    "\n",
    "def dijkstra(start):\n",
    "    q = []\n",
    "    distance[start] = 0\n",
    "    heapq.heappush(q, (0, start))\n",
    "    \n",
    "    while q :\n",
    "        dist, now = heapq.heappop(q)\n",
    "        if dist > distance[now]:\n",
    "            continue\n",
    "        \n",
    "        for i in graph[now]:\n",
    "            cost = dist + i[1]\n",
    "            if cost < distance[i[0]]:\n",
    "                distance[i[0]] = cost\n",
    "                heapq.heappush(q, (cost, i[0]))\n",
    "                     \n",
    "dijkstra(N)\n",
    "#print(distance)\n",
    "#print(graph)\n",
    "print(distance[K])\n",
    "\n",
    "\n"
   ]
  },
  {
   "cell_type": "code",
   "execution_count": null,
   "metadata": {},
   "outputs": [],
   "source": []
  },
  {
   "cell_type": "code",
   "execution_count": null,
   "metadata": {},
   "outputs": [],
   "source": []
  }
 ],
 "metadata": {
  "kernelspec": {
   "display_name": "Python 3",
   "language": "python",
   "name": "python3"
  },
  "language_info": {
   "codemirror_mode": {
    "name": "ipython",
    "version": 3
   },
   "file_extension": ".py",
   "mimetype": "text/x-python",
   "name": "python",
   "nbconvert_exporter": "python",
   "pygments_lexer": "ipython3",
   "version": "3.8.5"
  }
 },
 "nbformat": 4,
 "nbformat_minor": 4
}
