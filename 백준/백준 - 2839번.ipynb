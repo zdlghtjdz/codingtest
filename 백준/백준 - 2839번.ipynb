{
 "cells": [
  {
   "cell_type": "code",
   "execution_count": 13,
   "metadata": {},
   "outputs": [
    {
     "name": "stdout",
     "output_type": "stream",
     "text": [
      "11\n",
      "3\n",
      "[1001, 1001, 1001, 1, 1001, 1, 2, 1001, 2, 3, 2, 3]\n"
     ]
    }
   ],
   "source": [
    "n = int(input())\n",
    "\n",
    "#  3 <= n <= 5000\n",
    "# 3kg, 5kg\n",
    "\n",
    "table = [9999] * (n+1)\n",
    "\n",
    "for i in range(3, n+1):\n",
    "    if i == 3:\n",
    "        table[i] = 1\n",
    "    elif i == 5 :\n",
    "        table[i] = 1\n",
    "    else :\n",
    "        if table[i-3] != 9999 or table[i-5] != 9999:\n",
    "            table[i] = min(table[i-3], table[i-5]) + 1\n",
    "\n",
    "if table[n] == 9999:\n",
    "    print(-1)\n",
    "else:\n",
    "    print(table[n])\n",
    "    \n",
    "#print(table)"
   ]
  },
  {
   "cell_type": "code",
   "execution_count": null,
   "metadata": {},
   "outputs": [],
   "source": []
  }
 ],
 "metadata": {
  "kernelspec": {
   "display_name": "Python 3",
   "language": "python",
   "name": "python3"
  },
  "language_info": {
   "codemirror_mode": {
    "name": "ipython",
    "version": 3
   },
   "file_extension": ".py",
   "mimetype": "text/x-python",
   "name": "python",
   "nbconvert_exporter": "python",
   "pygments_lexer": "ipython3",
   "version": "3.8.5"
  }
 },
 "nbformat": 4,
 "nbformat_minor": 4
}
