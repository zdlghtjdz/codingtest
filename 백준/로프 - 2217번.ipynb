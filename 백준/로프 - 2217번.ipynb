{
 "cells": [
  {
   "cell_type": "code",
   "execution_count": 6,
   "metadata": {},
   "outputs": [
    {
     "name": "stdout",
     "output_type": "stream",
     "text": [
      "2\n",
      "10\n",
      "15\n",
      "20\n"
     ]
    }
   ],
   "source": [
    "N = int(input())\n",
    "\n",
    "rope = []\n",
    "\n",
    "for i in range(N):\n",
    "    rope.append(int(input()))\n",
    "#print(rope)\n",
    "\n",
    "rope.sort()\n",
    "weight = [0] * len(rope)\n",
    "for i in range(len(rope)):\n",
    "    weight[i] = rope[i] * (len(rope) - i)\n",
    "\n",
    "print(max(weight)) "
   ]
  },
  {
   "cell_type": "code",
   "execution_count": null,
   "metadata": {},
   "outputs": [],
   "source": []
  }
 ],
 "metadata": {
  "kernelspec": {
   "display_name": "Python 3",
   "language": "python",
   "name": "python3"
  },
  "language_info": {
   "codemirror_mode": {
    "name": "ipython",
    "version": 3
   },
   "file_extension": ".py",
   "mimetype": "text/x-python",
   "name": "python",
   "nbconvert_exporter": "python",
   "pygments_lexer": "ipython3",
   "version": "3.8.5"
  }
 },
 "nbformat": 4,
 "nbformat_minor": 4
}
