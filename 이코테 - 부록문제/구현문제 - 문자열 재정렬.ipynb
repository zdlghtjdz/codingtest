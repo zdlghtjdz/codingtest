{
 "cells": [
  {
   "cell_type": "code",
   "execution_count": 13,
   "metadata": {},
   "outputs": [
    {
     "name": "stdout",
     "output_type": "stream",
     "text": [
      "AJKDLSI412K4JSJ9D\n",
      "20\n",
      "ADDIJJJKKLSS20\n"
     ]
    }
   ],
   "source": [
    "S = input()\n",
    "\n",
    "sum_ = 0\n",
    "char_s = []\n",
    "for i in range(len(S)) :\n",
    "    #print(int(i))\n",
    "    if S[i].isdigit() : \n",
    "        sum_ += int(S[i])\n",
    "    else :\n",
    "        char_s.append(S[i])\n",
    "#print(sum_)\n",
    "char_s.sort()\n",
    "answer = ''.join(char_s)\n",
    "answer += str(sum_)\n",
    "print(answer)"
   ]
  },
  {
   "cell_type": "code",
   "execution_count": null,
   "metadata": {},
   "outputs": [],
   "source": []
  }
 ],
 "metadata": {
  "kernelspec": {
   "display_name": "Python 3",
   "language": "python",
   "name": "python3"
  },
  "language_info": {
   "codemirror_mode": {
    "name": "ipython",
    "version": 3
   },
   "file_extension": ".py",
   "mimetype": "text/x-python",
   "name": "python",
   "nbconvert_exporter": "python",
   "pygments_lexer": "ipython3",
   "version": "3.8.5"
  }
 },
 "nbformat": 4,
 "nbformat_minor": 4
}
