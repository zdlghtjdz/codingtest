{
 "cells": [
  {
   "cell_type": "code",
   "execution_count": 2,
   "metadata": {},
   "outputs": [
    {
     "name": "stdout",
     "output_type": "stream",
     "text": [
      "567\n",
      "210\n"
     ]
    }
   ],
   "source": [
    "S = input()\n",
    "\n",
    "answer = 0\n",
    "\n",
    "for j in S:\n",
    "    i = int(j)\n",
    "    if answer == 0 :\n",
    "        answer = i\n",
    "    else :\n",
    "        if i == 0 or i == 1 :\n",
    "            answer += i\n",
    "        else :\n",
    "            answer *= i\n",
    "        \n",
    "print(answer)"
   ]
  },
  {
   "cell_type": "code",
   "execution_count": null,
   "metadata": {},
   "outputs": [],
   "source": []
  }
 ],
 "metadata": {
  "kernelspec": {
   "display_name": "Python 3",
   "language": "python",
   "name": "python3"
  },
  "language_info": {
   "codemirror_mode": {
    "name": "ipython",
    "version": 3
   },
   "file_extension": ".py",
   "mimetype": "text/x-python",
   "name": "python",
   "nbconvert_exporter": "python",
   "pygments_lexer": "ipython3",
   "version": "3.8.5"
  }
 },
 "nbformat": 4,
 "nbformat_minor": 4
}
