{
 "cells": [
  {
   "cell_type": "code",
   "execution_count": 31,
   "metadata": {},
   "outputs": [
    {
     "name": "stdout",
     "output_type": "stream",
     "text": [
      "1\n"
     ]
    }
   ],
   "source": [
    "# 41.5점\n",
    "\n",
    "    food_times = [3, 1, 2]\n",
    "    k = 5\n",
    "    \n",
    "    \n",
    "    answer = 0\n",
    "    time = 0\n",
    "    index = time % len(food_times)\n",
    "    while time != k : \n",
    "        index = index % len(food_times)\n",
    "        if food_times[index] <= 0 :\n",
    "            index += 1\n",
    "            continue\n",
    "        elif food_times[index] > 0 :\n",
    "            food_times[index] -= 1\n",
    "            time += 1\n",
    "            index += 1\n",
    "    if sum(food_times) == 0 :\n",
    "        print(\"-1\")\n",
    "    else:\n",
    "        index = index % len(food_times)\n",
    "        while food_times[index] == 0 :\n",
    "            index = (index + 1) % len(food_times)\n",
    "        print(index+1)\n",
    "    \n"
   ]
  },
  {
   "cell_type": "code",
   "execution_count": 18,
   "metadata": {},
   "outputs": [
    {
     "name": "stdout",
     "output_type": "stream",
     "text": [
      "3\n",
      "2\n",
      "0\n",
      "[1, 0, 0]\n",
      "[1]\n",
      "1\n"
     ]
    }
   ],
   "source": [
    "    import heapq\n",
    "\n",
    "    food_times = [3, 1, 2]\n",
    "    k = 5\n",
    "    food_list = food_times.copy()\n",
    "    a = 0\n",
    "    start = 0\n",
    "    while k >= a:\n",
    "        tmp = [i for i in food_list if i > 0]\n",
    "        if len(tmp) == 0 :\n",
    "            print(-1)\n",
    "            break\n",
    "        b = len(tmp)\n",
    "        heapq.heapify(tmp)\n",
    "        a = heapq.heappop(tmp)\n",
    "        #print(a)\n",
    "        b *= a\n",
    "        food_list = [i - a if i > 0 else 0 for i in food_list]\n",
    "        k -= b\n",
    "       #print(k)\n",
    "        print(b)\n",
    "    print(k)\n",
    "    print(food_list)\n",
    "    answer_list = [i + 1 for i in range(len(food_list)) if food_list[i] > 0]\n",
    "    print(answer_list)\n",
    "    print(answer_list[k % len(answer_list)])"
   ]
  },
  {
   "cell_type": "code",
   "execution_count": 19,
   "metadata": {},
   "outputs": [],
   "source": [
    "# 실패  + 시간초과\n",
    "def solution(food_times, k):  \n",
    "    \n",
    "        \n",
    "    food_list = food_times.copy()\n",
    "    a = 0\n",
    "    answer = 0\n",
    "    while k > a:\n",
    "        tmp = [i for i in food_list if i > 0]\n",
    "        if len(tmp) == 0 :\n",
    "            return -1\n",
    "        a = min(tmp)\n",
    "        b = len(tmp)\n",
    "        food_list = [i - a if i > 0 else 0 for i in food_list]\n",
    "        k -= b\n",
    "      \n",
    "\n",
    "\n",
    "    return k+1 % len(food_times)"
   ]
  },
  {
   "cell_type": "code",
   "execution_count": 1,
   "metadata": {},
   "outputs": [],
   "source": [
    "import heapq\n",
    "\n",
    "def solution(food_times, k) :\n",
    "    if sum(food_times) <= k :\n",
    "        return -1\n",
    "\n",
    "    q = []\n",
    "    for i in range(len(food_times)):\n",
    "        heapq.heappush(q, (food_times[i], i + 1)) # 음식 시간, 음식 번호\n",
    "          \n",
    "    sum_value = 0 # 먹기 위해 사용한 시간\n",
    "    previous = 0 # 직전에 다 먹은 음식 시간\n",
    "    length = len(food_times) # 남은 음식의 개수\n",
    "    \n",
    "    \n",
    "    while sum_value + ((q[0][0] - previous) * length) <= k:\n",
    "        now = heapq.heappop(q)[0]\n",
    "        sum_value += (now - previous) * length\n",
    "        length -= 1\n",
    "        previous = now\n",
    "        \n",
    "    result = sorted(q, key = lambda x : x[1])\n",
    "    return result[(k - sum_value) % length][1]"
   ]
  },
  {
   "cell_type": "code",
   "execution_count": 15,
   "metadata": {},
   "outputs": [
    {
     "name": "stdout",
     "output_type": "stream",
     "text": [
      "1\n"
     ]
    }
   ],
   "source": [
    "import heapq\n",
    "\n",
    "food_times = [3, 1, 2]\n",
    "k = 5\n",
    "\n",
    "if sum(food_times) < k :\n",
    "    print(-1)\n",
    "\n",
    "food_list = []\n",
    "for i in range(len(food_times)) :\n",
    "    heapq.heappush(food_list, (food_times[i], i+1))\n",
    "\n",
    "sum_ = 0\n",
    "prev = 0\n",
    "length = len(food_times)\n",
    "now = food_list[0][0]\n",
    "\n",
    "while sum_ + ((food_list[0][0] - prev) * length ) <= k :\n",
    "    now = heapq.heappop(food_list)[0]\n",
    "    sum_ += (now - prev) * length\n",
    "    length -= 1\n",
    "    prev = now\n",
    "    #print(now, sum_, prev)\n",
    "    \n",
    "    \n",
    "answer_list = sorted(food_list, key = lambda x : x[1])\n",
    "print(answer_list[(k - sum_) % length][1])\n",
    "                   "
   ]
  },
  {
   "cell_type": "code",
   "execution_count": null,
   "metadata": {},
   "outputs": [],
   "source": []
  }
 ],
 "metadata": {
  "kernelspec": {
   "display_name": "Python 3",
   "language": "python",
   "name": "python3"
  },
  "language_info": {
   "codemirror_mode": {
    "name": "ipython",
    "version": 3
   },
   "file_extension": ".py",
   "mimetype": "text/x-python",
   "name": "python",
   "nbconvert_exporter": "python",
   "pygments_lexer": "ipython3",
   "version": "3.8.5"
  }
 },
 "nbformat": 4,
 "nbformat_minor": 4
}
