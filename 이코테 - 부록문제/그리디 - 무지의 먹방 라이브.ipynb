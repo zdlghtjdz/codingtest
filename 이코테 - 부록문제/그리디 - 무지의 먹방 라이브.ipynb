{
 "cells": [
  {
   "cell_type": "code",
   "execution_count": 31,
   "metadata": {},
   "outputs": [
    {
     "name": "stdout",
     "output_type": "stream",
     "text": [
      "1\n"
     ]
    }
   ],
   "source": [
    "# 41.5점\n",
    "\n",
    "    food_times = [3, 1, 2]\n",
    "    k = 5\n",
    "    \n",
    "    \n",
    "    answer = 0\n",
    "    time = 0\n",
    "    index = time % len(food_times)\n",
    "    while time != k : \n",
    "        index = index % len(food_times)\n",
    "        if food_times[index] <= 0 :\n",
    "            index += 1\n",
    "            continue\n",
    "        elif food_times[index] > 0 :\n",
    "            food_times[index] -= 1\n",
    "            time += 1\n",
    "            index += 1\n",
    "    if sum(food_times) == 0 :\n",
    "        print(\"-1\")\n",
    "    else:\n",
    "        index = index % len(food_times)\n",
    "        while food_times[index] == 0 :\n",
    "            index = (index + 1) % len(food_times)\n",
    "        print(index+1)\n",
    "    \n"
   ]
  },
  {
   "cell_type": "code",
   "execution_count": 24,
   "metadata": {},
   "outputs": [
    {
     "name": "stdout",
     "output_type": "stream",
     "text": [
      "1\n"
     ]
    }
   ],
   "source": [
    "import heapq\n",
    "\n",
    "    food_times = [3, 1, 2]\n",
    "    k = 5\n",
    "    food_list = food_times.copy()\n",
    "    a = 0\n",
    "    answer = 0\n",
    "    start = 0\n",
    "    while k > a:\n",
    "        tmp = [i for i in food_list if i > 0]\n",
    "        a = heapq.heappop(tmp)\n",
    "        b = len(tmp)\n",
    "        food_list = [i - a if i > 0 else 0 for i in food_list]\n",
    "        k -= b\n",
    "      \n",
    "    print(k+1)"
   ]
  },
  {
   "cell_type": "code",
   "execution_count": null,
   "metadata": {},
   "outputs": [],
   "source": [
    "# 실패  + 시간초과\n",
    "def solution(food_times, k):  \n",
    "    \n",
    "        \n",
    "    food_list = food_times.copy()\n",
    "    a = 0\n",
    "    answer = 0\n",
    "    while k > a:\n",
    "        tmp = [i for i in food_list if i > 0]\n",
    "        if len(tmp) == 0 :\n",
    "            return -1\n",
    "        a = min(tmp)\n",
    "        b = len(tmp)\n",
    "        food_list = [i - a if i > 0 else 0 for i in food_list]\n",
    "        k -= b\n",
    "      \n",
    "\n",
    "\n",
    "    return k+1 % len(food_times)"
   ]
  }
 ],
 "metadata": {
  "kernelspec": {
   "display_name": "Python 3",
   "language": "python",
   "name": "python3"
  },
  "language_info": {
   "codemirror_mode": {
    "name": "ipython",
    "version": 3
   },
   "file_extension": ".py",
   "mimetype": "text/x-python",
   "name": "python",
   "nbconvert_exporter": "python",
   "pygments_lexer": "ipython3",
   "version": "3.8.5"
  }
 },
 "nbformat": 4,
 "nbformat_minor": 4
}
