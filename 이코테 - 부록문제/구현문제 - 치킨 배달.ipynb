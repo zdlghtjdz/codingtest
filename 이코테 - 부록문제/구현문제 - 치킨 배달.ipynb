{
 "cells": [
  {
   "cell_type": "code",
   "execution_count": 12,
   "metadata": {},
   "outputs": [
    {
     "name": "stdout",
     "output_type": "stream",
     "text": [
      "5 3\n",
      "0 0 1 0 0\n",
      "0 0 2 0 1\n",
      "0 1 2 0 0\n",
      "0 0 1 0 0\n",
      "0 0 0 0 2\n",
      "[[0, 0, 1, 0, 0], [0, 0, 2, 0, 1], [0, 1, 2, 0, 0], [0, 0, 1, 0, 0], [0, 0, 0, 0, 2]]\n",
      "[[0, 2], [1, 4], [2, 1], [3, 2]]\n",
      "[[1, 2], [2, 2], [4, 4]]\n",
      "[1, 2, 1, 1]\n"
     ]
    }
   ],
   "source": [
    "def chicken_len(x, y, xh, yh) :\n",
    "    if x > xh :\n",
    "        result_x = x-xh\n",
    "    else :\n",
    "        result_x = xh - x\n",
    "    \n",
    "    if y > yh :\n",
    "        result_y = y - yh\n",
    "    else :\n",
    "        result_y = yh - y\n",
    "    \n",
    "    return result_x + result_y\n",
    "\n",
    "city = []\n",
    "\n",
    "N, M = map(int, input().split())\n",
    "for _ in range(N) :\n",
    "   city.append(list(map(int, input().split())))\n",
    "\n",
    "print(city)\n",
    "\n",
    "chicken = []\n",
    "house = []\n",
    "\n",
    "for i in range(len(city)):\n",
    "    for j in range(len(city[i])) :\n",
    "        if city[i][j] == 0 :\n",
    "            continue\n",
    "        elif city[i][j] == 2 :\n",
    "            chicken.append([i,j])\n",
    "        elif city[i][j] == 1 :\n",
    "            house.append([i,j])\n",
    "            \n",
    "chicken_length_list = []\n",
    "    \n",
    "for h in house :\n",
    "    xh, yh = h\n",
    "    chicken_len_check = []\n",
    "    for chic in chicken :\n",
    "        x, y = chic\n",
    "        chicken_len_check.append(chicken_len(x, y, xh, yh))\n",
    "    chicken_len_check.sort()    \n",
    "    chicken_length_list.append(chicken_len_check[0])\n",
    "    \n",
    "print(house)\n",
    "print(chicken)\n",
    "print(chicken_length_list)"
   ]
  },
  {
   "cell_type": "markdown",
   "metadata": {},
   "source": [
    "##### "
   ]
  }
 ],
 "metadata": {
  "kernelspec": {
   "display_name": "Python 3",
   "language": "python",
   "name": "python3"
  },
  "language_info": {
   "codemirror_mode": {
    "name": "ipython",
    "version": 3
   },
   "file_extension": ".py",
   "mimetype": "text/x-python",
   "name": "python",
   "nbconvert_exporter": "python",
   "pygments_lexer": "ipython3",
   "version": "3.8.5"
  }
 },
 "nbformat": 4,
 "nbformat_minor": 4
}
