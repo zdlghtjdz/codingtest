{
 "cells": [
  {
   "cell_type": "code",
   "execution_count": 8,
   "metadata": {},
   "outputs": [
    {
     "name": "stdout",
     "output_type": "stream",
     "text": [
      "00011010100\n",
      "[0, 1, 2, 5, 7, 9, 10] [3, 4, 6, 8]\n",
      "3\n"
     ]
    }
   ],
   "source": [
    "S = input()\n",
    "\n",
    "# 모두 1로 or 모두 0으로\n",
    "\n",
    "zero_count = 0\n",
    "one_count = 0\n",
    "\n",
    "zero_index = [i for i in range(len(S)) if S[i] == \"0\"]\n",
    "one_index = [i for i in range(len(S)) if S[i] == \"1\"]\n",
    "\n",
    "#print(zero_index, one_index)\n",
    "start = -1\n",
    "for i in zero_index :\n",
    "    if start == -1:\n",
    "        start = i\n",
    "        zero_count += 1\n",
    "        continue\n",
    "    elif start + 1 == i :\n",
    "        start = i \n",
    "    else :\n",
    "        zero_count += 1\n",
    "start = -1\n",
    "for i in one_index :\n",
    "    if start == -1:\n",
    "        start = i\n",
    "        one_count += 1\n",
    "        continue\n",
    "    elif start + 1 == i :\n",
    "        start = i \n",
    "    else :\n",
    "        one_count += 1\n",
    "        \n",
    "print(min(zero_count, one_count))"
   ]
  },
  {
   "cell_type": "code",
   "execution_count": 3,
   "metadata": {},
   "outputs": [
    {
     "name": "stdout",
     "output_type": "stream",
     "text": [
      "0001100\n",
      "1\n"
     ]
    }
   ],
   "source": [
    "# 정답\n",
    "\n",
    "data = input()\n",
    "count0 = 0\n",
    "count1 = 0\n",
    "\n",
    "if data[0] == '1':\n",
    "    count0 += 1\n",
    "else :\n",
    "    count1 += 1\n",
    "    \n",
    "for i in range(len(data) - 1) :\n",
    "    if data[i] != data[i + 1]:\n",
    "        if data[i + 1] == '1' :\n",
    "            count0 += 1\n",
    "        else :\n",
    "            count1 += 1\n",
    "            \n",
    "print(min(count0, count1))"
   ]
  },
  {
   "cell_type": "code",
   "execution_count": null,
   "metadata": {},
   "outputs": [],
   "source": []
  },
  {
   "cell_type": "code",
   "execution_count": null,
   "metadata": {},
   "outputs": [],
   "source": []
  }
 ],
 "metadata": {
  "kernelspec": {
   "display_name": "Python 3",
   "language": "python",
   "name": "python3"
  },
  "language_info": {
   "codemirror_mode": {
    "name": "ipython",
    "version": 3
   },
   "file_extension": ".py",
   "mimetype": "text/x-python",
   "name": "python",
   "nbconvert_exporter": "python",
   "pygments_lexer": "ipython3",
   "version": "3.8.5"
  }
 },
 "nbformat": 4,
 "nbformat_minor": 4
}
