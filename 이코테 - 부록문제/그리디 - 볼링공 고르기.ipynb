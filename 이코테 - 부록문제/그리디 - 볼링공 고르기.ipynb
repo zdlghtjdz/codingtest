{
 "cells": [
  {
   "cell_type": "code",
   "execution_count": 8,
   "metadata": {},
   "outputs": [
    {
     "name": "stdout",
     "output_type": "stream",
     "text": [
      "8 5\n",
      "1 5 4 3 2 4 5 2\n",
      "1 5\n",
      "1 4\n",
      "1 3\n",
      "1 2\n",
      "1 4\n",
      "1 5\n",
      "1 2\n",
      "5 4\n",
      "5 3\n",
      "5 2\n",
      "5 4\n",
      "5 2\n",
      "4 3\n",
      "4 2\n",
      "4 5\n",
      "4 2\n",
      "3 2\n",
      "3 4\n",
      "3 5\n",
      "3 2\n",
      "2 4\n",
      "2 5\n",
      "4 5\n",
      "4 2\n",
      "5 2\n",
      "25\n"
     ]
    }
   ],
   "source": [
    "N, M = map(int, input().split())\n",
    "ball = list(map(int, input().split()))\n",
    "answer = 0\n",
    "\n",
    "for i in range(len(ball)):\n",
    "    for j in range(i, len(ball)):\n",
    "        if ball[i] == ball[j] :\n",
    "            continue\n",
    "        #print(ball[i], ball[j])\n",
    "        answer += 1\n",
    "\n",
    "print(answer)"
   ]
  },
  {
   "cell_type": "code",
   "execution_count": null,
   "metadata": {},
   "outputs": [],
   "source": []
  }
 ],
 "metadata": {
  "kernelspec": {
   "display_name": "Python 3",
   "language": "python",
   "name": "python3"
  },
  "language_info": {
   "codemirror_mode": {
    "name": "ipython",
    "version": 3
   },
   "file_extension": ".py",
   "mimetype": "text/x-python",
   "name": "python",
   "nbconvert_exporter": "python",
   "pygments_lexer": "ipython3",
   "version": "3.8.5"
  }
 },
 "nbformat": 4,
 "nbformat_minor": 4
}
