{
 "cells": [
  {
   "cell_type": "code",
   "execution_count": 4,
   "metadata": {},
   "outputs": [
    {
     "name": "stdout",
     "output_type": "stream",
     "text": [
      "6\n",
      "3\n",
      "3 4\n",
      "2 5\n",
      "5 3\n",
      "3\n",
      "3 D\n",
      "15 L\n",
      "17 D\n",
      "[['3', 'D'], ['15', 'L'], ['17', 'D'], ['3', 'D'], ['15', 'L'], ['17', 'D'], ['3', 'D'], ['15', 'L'], ['17', 'D']]\n",
      "[[1, 0, 0, 0, 0, 0, 0], [0, 0, 0, 0, 0, 0, 0], [0, 0, 0, 0, 0, 2, 0], [0, 0, 0, 0, 2, 0, 0], [0, 0, 0, 0, 0, 0, 0], [0, 0, 0, 2, 0, 0, 0], [0, 0, 0, 0, 0, 0, 0]]\n"
     ]
    }
   ],
   "source": [
    "N = int(input())\n",
    "K = int(input())\n",
    "\n",
    "snake_map = [[0] * (N + 1) for _ in range(N+1)]\n",
    "#apple = []\n",
    "#turn_list = [] # char\n",
    "\n",
    "for i in range(K) :\n",
    "    tmp = []\n",
    "    x, y = map(int, input().split())\n",
    "    snake_map[x][y] = 2\n",
    "    #apple.append(tmp)\n",
    "\n",
    "L = int(input())\n",
    "for i in range(L) :\n",
    "    x, turn = input().split()\n",
    "    tmp = []\n",
    "    tmp.append(x)\n",
    "    tmp.append(turn)\n",
    "    turn_list.append(tmp)\n",
    "    \n",
    "#print(apple)\n",
    "print(turn_list)\n",
    "    \n",
    "snake_direction = 'R'\n",
    "snake_len = 1\n",
    "snake_map[0][0] = 1\n",
    "    \n",
    "\n",
    "# 뱀은 몸길이를 늘려 머리를 다음칸에 위치\n",
    "# 이동한 칸에 사과가 있는지 확인 -> 있으면 꼬리는 움직이지 않음\n",
    "# 없으면 꼬리를 줄임.\n",
    "\n",
    "print(snake_map)\n",
    "#while \n"
   ]
  },
  {
   "cell_type": "code",
   "execution_count": 1,
   "metadata": {},
   "outputs": [],
   "source": [
    "# 6\n",
    "# 3\n",
    "# 3 4\n",
    "# 2 5\n",
    "# 5 3\n",
    "# 3\n",
    "# 3 D\n",
    "# 15 L\n",
    "# 17 D"
   ]
  },
  {
   "cell_type": "code",
   "execution_count": 5,
   "metadata": {},
   "outputs": [
    {
     "name": "stdout",
     "output_type": "stream",
     "text": [
      "6\n",
      "3\n",
      "3 4\n",
      "2 5\n",
      "5 3\n",
      "3\n",
      "3 D\n",
      "15 L\n",
      "17 D\n",
      "9\n"
     ]
    }
   ],
   "source": [
    "n = int(input())\n",
    "k = int(input())\n",
    "data = [[0] * (n+1) for _ in range(n+1)]\n",
    "info = []\n",
    "\n",
    "# 사과 표시\n",
    "for _ in range(k) :\n",
    "    a, b = map(int, input().split())\n",
    "    data[a][b] = 1\n",
    "    \n",
    "\n",
    "l = int(input())\n",
    "for _ in range(l) :\n",
    "    x, c = input().split()\n",
    "    info.append((int(x), c))\n",
    "    \n",
    "dx = [0, 1, 0, -1]\n",
    "dy = [1, 0, -1, 0]\n",
    "\n",
    "def turn(direction, c) :\n",
    "    if c == \"L\" :\n",
    "        direction = (direction - 1) % 4\n",
    "    else :\n",
    "        direction = (direction + 1) % 4\n",
    "    return direction\n",
    "\n",
    "def simulate() :\n",
    "    x, y = 1, 1\n",
    "    data[x][y] = 2\n",
    "    direction = 0\n",
    "    time = 0\n",
    "    index = 0\n",
    "    q = [(x, y)]\n",
    "    while True :\n",
    "        nx = x + dx[direction]\n",
    "        ny = y + dy[direction]\n",
    "        \n",
    "        if 1 <= nx and nx <= n and 1 <= ny and ny <= n and data[nx][ny] != 2:\n",
    "            if data[nx][ny] == 0:\n",
    "                data[nx][ny] = 2\n",
    "                q.append((nx,ny))\n",
    "                px, py = q.pop(0)\n",
    "                data[px][py] = 0\n",
    "            if data[nx][ny] == 1:\n",
    "                data[nx][ny] = 2\n",
    "                q.append((nx,ny))\n",
    "        else :\n",
    "            time += 1\n",
    "            break\n",
    "        x,y = nx, ny\n",
    "        time += 1\n",
    "        if index < l and time == info[index][0] :\n",
    "            direction = turn(direction, info[index][1])\n",
    "            index += 1\n",
    "    return time\n",
    "\n",
    "print(simulate())"
   ]
  },
  {
   "cell_type": "code",
   "execution_count": 7,
   "metadata": {},
   "outputs": [
    {
     "data": {
      "text/plain": [
       "[1, 3, 4, 5]"
      ]
     },
     "execution_count": 7,
     "metadata": {},
     "output_type": "execute_result"
    }
   ],
   "source": [
    "s = [1,2,3,4,5]\n",
    "s.pop(1)\n",
    "s"
   ]
  },
  {
   "cell_type": "code",
   "execution_count": null,
   "metadata": {},
   "outputs": [],
   "source": []
  }
 ],
 "metadata": {
  "kernelspec": {
   "display_name": "Python 3",
   "language": "python",
   "name": "python3"
  },
  "language_info": {
   "codemirror_mode": {
    "name": "ipython",
    "version": 3
   },
   "file_extension": ".py",
   "mimetype": "text/x-python",
   "name": "python",
   "nbconvert_exporter": "python",
   "pygments_lexer": "ipython3",
   "version": "3.8.5"
  }
 },
 "nbformat": 4,
 "nbformat_minor": 4
}
