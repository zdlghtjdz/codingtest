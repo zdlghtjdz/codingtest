{
 "cells": [
  {
   "cell_type": "code",
   "execution_count": 4,
   "metadata": {},
   "outputs": [
    {
     "name": "stdout",
     "output_type": "stream",
     "text": [
      "6\n",
      "3\n",
      "3 4\n",
      "2 5\n",
      "5 3\n",
      "3\n",
      "3 D\n",
      "15 L\n",
      "17 D\n",
      "[['3', 'D'], ['15', 'L'], ['17', 'D'], ['3', 'D'], ['15', 'L'], ['17', 'D'], ['3', 'D'], ['15', 'L'], ['17', 'D']]\n",
      "[[1, 0, 0, 0, 0, 0, 0], [0, 0, 0, 0, 0, 0, 0], [0, 0, 0, 0, 0, 2, 0], [0, 0, 0, 0, 2, 0, 0], [0, 0, 0, 0, 0, 0, 0], [0, 0, 0, 2, 0, 0, 0], [0, 0, 0, 0, 0, 0, 0]]\n"
     ]
    }
   ],
   "source": [
    "N = int(input())\n",
    "K = int(input())\n",
    "\n",
    "snake_map = [[0] * (N + 1) for _ in range(N+1)]\n",
    "#apple = []\n",
    "#turn_list = [] # char\n",
    "\n",
    "for i in range(K) :\n",
    "    tmp = []\n",
    "    x, y = map(int, input().split())\n",
    "    snake_map[x][y] = 2\n",
    "    #apple.append(tmp)\n",
    "\n",
    "L = int(input())\n",
    "for i in range(L) :\n",
    "    x, turn = input().split()\n",
    "    tmp = []\n",
    "    tmp.append(x)\n",
    "    tmp.append(turn)\n",
    "    turn_list.append(tmp)\n",
    "    \n",
    "#print(apple)\n",
    "print(turn_list)\n",
    "    \n",
    "snake_direction = 'R'\n",
    "snake_len = 1\n",
    "snake_map[0][0] = 1\n",
    "    \n",
    "\n",
    "# 뱀은 몸길이를 늘려 머리를 다음칸에 위치\n",
    "# 이동한 칸에 사과가 있는지 확인 -> 있으면 꼬리는 움직이지 않음\n",
    "# 없으면 꼬리를 줄임.\n",
    "\n",
    "print(snake_map)\n",
    "#while \n"
   ]
  },
  {
   "cell_type": "code",
   "execution_count": null,
   "metadata": {},
   "outputs": [],
   "source": [
    "# 6\n",
    "# 3\n",
    "# 3 4\n",
    "# 2 5\n",
    "# 5 3\n",
    "# 3\n",
    "# 3 D\n",
    "# 15 L\n",
    "# 17 D"
   ]
  }
 ],
 "metadata": {
  "kernelspec": {
   "display_name": "Python 3",
   "language": "python",
   "name": "python3"
  },
  "language_info": {
   "codemirror_mode": {
    "name": "ipython",
    "version": 3
   },
   "file_extension": ".py",
   "mimetype": "text/x-python",
   "name": "python",
   "nbconvert_exporter": "python",
   "pygments_lexer": "ipython3",
   "version": "3.8.5"
  }
 },
 "nbformat": 4,
 "nbformat_minor": 4
}
