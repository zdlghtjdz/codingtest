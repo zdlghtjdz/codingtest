{
 "cells": [
  {
   "cell_type": "code",
   "execution_count": 8,
   "metadata": {},
   "outputs": [
    {
     "name": "stdout",
     "output_type": "stream",
     "text": [
      "5\n",
      "3 2 1 1 9\n",
      "8\n"
     ]
    }
   ],
   "source": [
    "N = int(input())\n",
    "coin = list(map(int, input().split()))\n",
    "\n",
    "#3 2 1 1 9\n",
    "\n",
    "answer_list = [0]\n",
    "\n",
    "for i in range(len(coin)):\n",
    "    tmp = answer_list.copy()\n",
    "    for j in range(len(answer_list)):\n",
    "        if answer_list[j] + coin[i] not in answer_list :\n",
    "            answer_list.append(answer_list[j] + coin[i])\n",
    "        \n",
    "answer = [i for i in range(max(answer_list)) if i not in answer_list]    \n",
    "answer.sort()\n",
    "print(answer[0])\n",
    "    \n",
    "# 1 1 2 3 9\n",
    "# 1 2 3 4 "
   ]
  },
  {
   "cell_type": "code",
   "execution_count": 2,
   "metadata": {},
   "outputs": [
    {
     "name": "stdout",
     "output_type": "stream",
     "text": [
      "5\n",
      "3 2 1 1 8\n",
      "16\n"
     ]
    }
   ],
   "source": [
    "# 정답\n",
    "\n",
    "n = int(input())\n",
    "data = list(map(int, input().split()))\n",
    "data.sort()\n",
    "\n",
    "target = 1\n",
    "for x in data:\n",
    "    if target < x :\n",
    "        break\n",
    "    target += x\n",
    "    \n",
    "print(target)"
   ]
  },
  {
   "cell_type": "code",
   "execution_count": null,
   "metadata": {},
   "outputs": [],
   "source": []
  }
 ],
 "metadata": {
  "kernelspec": {
   "display_name": "Python 3",
   "language": "python",
   "name": "python3"
  },
  "language_info": {
   "codemirror_mode": {
    "name": "ipython",
    "version": 3
   },
   "file_extension": ".py",
   "mimetype": "text/x-python",
   "name": "python",
   "nbconvert_exporter": "python",
   "pygments_lexer": "ipython3",
   "version": "3.8.5"
  }
 },
 "nbformat": 4,
 "nbformat_minor": 4
}
