{
 "cells": [
  {
   "cell_type": "markdown",
   "metadata": {},
   "source": [
    "기둥은 바닥 위에 있거나 보의 한쪽 끝부분 위에 있거나 또는 다른 기둥 위에 있어야 합니다.\n",
    "\n",
    "보는 한쪽 끝부분이 기둥 위에 있거나, 또는 양쪽 끝부분이 다른 보와 동시에 연결되어 있어야 합니다.\n",
    "\n",
    "(1,0)에서 위쪽으로 기둥을 하나 설치 후, (1, 1)에서 오른쪽으로 보를 하나 만듭니다.\n",
    "(2,1)에서 위쪽으로 기둥을 하나 설치 후, (2, 2)에서 오른쪽으로 보를 하나 만듭니다.\n",
    "(5,0)에서 위쪽으로 기둥을 하나 설치 후, (5, 1)에서 위쪽으로 기둥을 하나 더 설치 합니다.\n",
    "(4, 2)에서 오른쪽으로 보를 설치 후, (3, 2)에서 오른쪽으로 보를 설치합니다.\n",
    "\n",
    "build_frame = [x, y, a, b]\n",
    "a -> 설치 혹은 삭제할 구조물의 종류 0은 기둥, 1은 보\n",
    "b -> 삭제 = 0, 설치 = 1\n",
    "\n"
   ]
  },
  {
   "cell_type": "code",
   "execution_count": null,
   "metadata": {},
   "outputs": [],
   "source": [
    "build_frame = [[1,0,0,1],[1,1,1,1],[2,1,0,1],[2,2,1,1],[5,0,0,1],[5,1,0,1],[4,2,1,1],[3,2,1,1]]\n",
    "n = 5\n",
    "\n",
    "map_ = [[0] * n for i in range(n)]\n",
    "\n",
    "for i in build_frame :\n",
    "    x,y,t,s = i\n",
    "    if s == 0 : # 삭제\n",
    "        \n",
    "        \n",
    "    elif s == 1 : # 설치\n",
    "        \n",
    "    "
   ]
  }
 ],
 "metadata": {
  "kernelspec": {
   "display_name": "Python 3",
   "language": "python",
   "name": "python3"
  },
  "language_info": {
   "codemirror_mode": {
    "name": "ipython",
    "version": 3
   },
   "file_extension": ".py",
   "mimetype": "text/x-python",
   "name": "python",
   "nbconvert_exporter": "python",
   "pygments_lexer": "ipython3",
   "version": "3.8.5"
  }
 },
 "nbformat": 4,
 "nbformat_minor": 4
}
