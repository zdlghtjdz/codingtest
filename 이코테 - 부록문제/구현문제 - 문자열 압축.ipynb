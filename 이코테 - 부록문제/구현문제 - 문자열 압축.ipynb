{
 "cells": [
  {
   "cell_type": "code",
   "execution_count": 24,
   "metadata": {},
   "outputs": [
    {
     "name": "stdout",
     "output_type": "stream",
     "text": [
      "a\n",
      "a\n",
      "b\n",
      "b\n",
      "a\n",
      "c\n",
      "c\n",
      "aa\n",
      "bb\n",
      "ac\n",
      "aab\n",
      "bac\n",
      "4\n",
      "[6, 4, 5]\n"
     ]
    }
   ],
   "source": [
    "S = \"aabbaccc\"\n",
    "answer = []\n",
    "\n",
    "for i in range(1,len(S)//2): # 문자열의 길이\n",
    "    sum_ = 0\n",
    "    tmp = S[0:i]\n",
    "    check = 1\n",
    "    print(tmp)\n",
    "    for j in range(i, len(S)-i, i) :\n",
    "        print(S[j:j+i])\n",
    "        if tmp == S[j:j+i] :\n",
    "            check += 1\n",
    "        else :\n",
    "            if check == 1:\n",
    "                sum_ += i\n",
    "            else : \n",
    "                sum_ += (i + (check // 10) + 1)\n",
    "        tmp = S[j:j+i]\n",
    "    sum_ += len(S) % i    \n",
    "    answer.append(sum_)\n",
    "    \n",
    "print(min(answer))\n",
    "print(answer)"
   ]
  },
  {
   "cell_type": "code",
   "execution_count": 1,
   "metadata": {},
   "outputs": [
    {
     "data": {
      "text/plain": [
       "0"
      ]
     },
     "execution_count": 1,
     "metadata": {},
     "output_type": "execute_result"
    }
   ],
   "source": [
    "h = 9\n",
    "h // 10"
   ]
  },
  {
   "cell_type": "code",
   "execution_count": 21,
   "metadata": {},
   "outputs": [
    {
     "name": "stdout",
     "output_type": "stream",
     "text": [
      "[1, 2, 3, 4]\n",
      "0\n",
      "1\n",
      "2\n",
      "3\n"
     ]
    },
    {
     "data": {
      "text/plain": [
       "1"
      ]
     },
     "execution_count": 21,
     "metadata": {},
     "output_type": "execute_result"
    }
   ],
   "source": [
    "test = [i for i in range(1, 5)]\n",
    "print(test)\n",
    "a = 3\n",
    "for i in range(0,len(test), ):\n",
    "    print(i)\n",
    "len(test) % a"
   ]
  },
  {
   "cell_type": "code",
   "execution_count": null,
   "metadata": {},
   "outputs": [],
   "source": []
  }
 ],
 "metadata": {
  "kernelspec": {
   "display_name": "Python 3",
   "language": "python",
   "name": "python3"
  },
  "language_info": {
   "codemirror_mode": {
    "name": "ipython",
    "version": 3
   },
   "file_extension": ".py",
   "mimetype": "text/x-python",
   "name": "python",
   "nbconvert_exporter": "python",
   "pygments_lexer": "ipython3",
   "version": "3.8.5"
  }
 },
 "nbformat": 4,
 "nbformat_minor": 4
}
