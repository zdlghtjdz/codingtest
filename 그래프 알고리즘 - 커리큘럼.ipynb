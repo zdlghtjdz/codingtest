{
 "cells": [
  {
   "cell_type": "code",
   "execution_count": 10,
   "metadata": {
    "scrolled": true
   },
   "outputs": [
    {
     "name": "stdout",
     "output_type": "stream",
     "text": [
      "5\n",
      "10 -1\n",
      "10 1 -1\n",
      "4 1 -1\n",
      "4 3 1 -1\n",
      "3 3 -1\n",
      "[[], [2, 3, 4], [], [4, 5], [], []] [0, 10, 10, 4, 4, 3] [0, 0, 1, 1, 2, 1]\n",
      "20\n",
      "14\n",
      "8\n",
      "7\n"
     ]
    }
   ],
   "source": [
    "from collections import deque\n",
    "\n",
    "n = int(input())\n",
    "\n",
    "graph = [[] for _ in range(n+1)]\n",
    "time = [0] * (n + 1)\n",
    "l = [0] * (n + 1) # 진입 간선의 수\n",
    "answer = 0\n",
    "\n",
    "for i in range(1, n+1):\n",
    "    temp = list(map(int, input().split()))\n",
    "    time[i] = temp[0]\n",
    "    for j in temp[1:]:\n",
    "        if j == -1:\n",
    "            break\n",
    "        graph[j].append(i)\n",
    "        l[i] += 1\n",
    "    \n",
    "print(graph, time, l)\n",
    "def topology_sort():\n",
    "    q = deque()\n",
    "    result = []\n",
    "    for i in range(1,len(l)):\n",
    "        if l[i] == 0:\n",
    "            q.append(i)\n",
    "    while q :\n",
    "        node = q.popleft()\n",
    "        result.append(node)\n",
    "        m = 0\n",
    "        for i in graph[node]:\n",
    "            l[i] -= 1\n",
    "            if l[i] == 0:\n",
    "                q.append(i)\n",
    "            \n",
    "    return result\n",
    "    \n",
    "        \n",
    "        "
   ]
  },
  {
   "cell_type": "code",
   "execution_count": 1,
   "metadata": {},
   "outputs": [
    {
     "ename": "SyntaxError",
     "evalue": "invalid syntax (<ipython-input-1-6d1174229000>, line 3)",
     "output_type": "error",
     "traceback": [
      "\u001b[1;36m  File \u001b[1;32m\"<ipython-input-1-6d1174229000>\"\u001b[1;36m, line \u001b[1;32m3\u001b[0m\n\u001b[1;33m    10 1 -1\u001b[0m\n\u001b[1;37m       ^\u001b[0m\n\u001b[1;31mSyntaxError\u001b[0m\u001b[1;31m:\u001b[0m invalid syntax\n"
     ]
    }
   ],
   "source": [
    "5\n",
    "10 -1\n",
    "10 1 -1\n",
    "4 1 -1\n",
    "4 3 1 -1\n",
    "3 3 -1\n",
    "\n",
    "\n"
   ]
  },
  {
   "cell_type": "code",
   "execution_count": 3,
   "metadata": {},
   "outputs": [
    {
     "name": "stdout",
     "output_type": "stream",
     "text": [
      "5\n",
      "10 -1\n",
      "10 1 -1\n",
      "4 1 -1\n",
      "4 3 1 -1\n",
      "3 3 -1\n",
      "10\n",
      "20\n",
      "14\n",
      "18\n",
      "17\n"
     ]
    }
   ],
   "source": [
    "from collections import deque\n",
    "import copy\n",
    "\n",
    "v = int(input())\n",
    "indegree = [0] * (v+1)\n",
    "graph = [[] for i in range(v + 1)]\n",
    "time = [0] * (v+1)\n",
    "\n",
    "for i in range(1, v+1):\n",
    "    data = list(map(int, input().split()))\n",
    "    time[i] = data[0]\n",
    "    for x in data[1:-1]:\n",
    "        indegree[i] += 1\n",
    "        graph[x].append(i)\n",
    "        \n",
    "def topology_sort():\n",
    "    result = copy.deepcopy(time)\n",
    "    q = deque()\n",
    "    \n",
    "    for i in range(1, v+1):\n",
    "        if indegree[i] == 0:\n",
    "            q.append(i)\n",
    "            \n",
    "    while q :\n",
    "        now = q.popleft()\n",
    "        for i in graph[now]:\n",
    "            result[i] = max(result[i], result[now] + time[i])\n",
    "            indegree[i] -= 1\n",
    "            if indegree[i] == 0:\n",
    "                q.append(i)\n",
    "                \n",
    "    for i in range(1, v+1):\n",
    "        print(result[i])\n",
    "topology_sort()"
   ]
  },
  {
   "cell_type": "code",
   "execution_count": null,
   "metadata": {},
   "outputs": [],
   "source": []
  }
 ],
 "metadata": {
  "kernelspec": {
   "display_name": "Python 3",
   "language": "python",
   "name": "python3"
  },
  "language_info": {
   "codemirror_mode": {
    "name": "ipython",
    "version": 3
   },
   "file_extension": ".py",
   "mimetype": "text/x-python",
   "name": "python",
   "nbconvert_exporter": "python",
   "pygments_lexer": "ipython3",
   "version": "3.8.5"
  }
 },
 "nbformat": 4,
 "nbformat_minor": 4
}
