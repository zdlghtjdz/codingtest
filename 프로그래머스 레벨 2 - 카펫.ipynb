{
 "cells": [
  {
   "cell_type": "code",
   "execution_count": 1,
   "metadata": {},
   "outputs": [],
   "source": [
    "def solution(brown, yellow):\n",
    "    answer = []\n",
    "    \n",
    "    ver_hor_sum = (brown // 2) + 2\n",
    "    sum_ = brown + yellow\n",
    "    \n",
    "    for i in range(1, ver_hor_sum):\n",
    "        hor_ = i\n",
    "        ver_ = ver_hor_sum - i\n",
    "        if ver_ >= hor_ :\n",
    "            if ver_ * hor_ == sum_:\n",
    "                answer.append(ver_)\n",
    "                answer.append(hor_)\n",
    "            \n",
    "    \n",
    "    return answer"
   ]
  },
  {
   "cell_type": "code",
   "execution_count": null,
   "metadata": {},
   "outputs": [],
   "source": []
  }
 ],
 "metadata": {
  "kernelspec": {
   "display_name": "Python 3",
   "language": "python",
   "name": "python3"
  },
  "language_info": {
   "codemirror_mode": {
    "name": "ipython",
    "version": 3
   },
   "file_extension": ".py",
   "mimetype": "text/x-python",
   "name": "python",
   "nbconvert_exporter": "python",
   "pygments_lexer": "ipython3",
   "version": "3.8.5"
  }
 },
 "nbformat": 4,
 "nbformat_minor": 4
}
