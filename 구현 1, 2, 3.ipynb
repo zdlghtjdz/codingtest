{
 "cells": [
  {
   "cell_type": "code",
   "execution_count": 9,
   "metadata": {},
   "outputs": [
    {
     "name": "stdout",
     "output_type": "stream",
     "text": [
      "5\n",
      "R R R U D D\n",
      "5\n",
      "1   2\n",
      "1   3\n",
      "1   4\n",
      "1   4\n",
      "2   4\n",
      "3   4\n"
     ]
    }
   ],
   "source": [
    "# 4 - 1 상하좌우\n",
    "\n",
    "N = int(input()) # 공간의 크기\n",
    "plan = input().split() # 이동할 방식\n",
    "# L R U D\n",
    "# L : x좌표 + 1, R : x좌표 - 1, U : y좌표 - 1, D : y좌표 + 1.\n",
    "# 초기 시작은 (1, 1)\n",
    "start = [1, 1]\n",
    "\n",
    "print(N)\n",
    "#print(len(plan))\n",
    "\n",
    "for i in range(0, len(plan)):\n",
    "    if plan[i] == 'D':\n",
    "        if start[0] < N :\n",
    "            start[0] += 1\n",
    "    elif plan[i] == 'U' :\n",
    "        if start[0] > 1 :\n",
    "            start[0] -= 1\n",
    "    elif plan[i] == 'L' :\n",
    "        if start[1] > 1 :\n",
    "            start[1] -= 1\n",
    "    elif plan[i] == 'R' :\n",
    "        if start[1] < N :\n",
    "            start[1] += 1\n",
    "    print(start[0], \" \", start[1])\n",
    "        \n",
    "    "
   ]
  },
  {
   "cell_type": "code",
   "execution_count": 13,
   "metadata": {},
   "outputs": [
    {
     "name": "stdout",
     "output_type": "stream",
     "text": [
      "5\n",
      "R R R U D D\n",
      "1 2\n",
      "1 3\n",
      "1 4\n",
      "1 4\n",
      "2 4\n",
      "3 4\n"
     ]
    }
   ],
   "source": [
    "# 4 - 1 해설\n",
    "\n",
    "n = int(input())\n",
    "x, y = 1, 1\n",
    "plans = input().split()\n",
    "nx, nx = 0, 0\n",
    "\n",
    "# 움직임 방향 및 움직일 수 있는 가중치 리스트로 설정.\n",
    "dx = [0, 0, -1, 1]\n",
    "dy = [-1, 1, 0, 0]\n",
    "move_types = ['L', 'R', 'U', 'D']\n",
    "\n",
    "for plan in plans :\n",
    "    for i in range(len(move_types)):\n",
    "        if plan == move_types[i]:\n",
    "            nx = x + dx[i]\n",
    "            ny = y + dy[i]\n",
    "        if nx < 1 or ny < 1 or nx > n or ny > n:\n",
    "            continue\n",
    "        \n",
    "        x, y = nx, ny\n",
    "    \n",
    "    print(x, y)"
   ]
  },
  {
   "cell_type": "code",
   "execution_count": 20,
   "metadata": {},
   "outputs": [
    {
     "name": "stdout",
     "output_type": "stream",
     "text": [
      "5\n",
      "11475\n"
     ]
    }
   ],
   "source": [
    "# 구현 4 - 2\n",
    "\n",
    "N = int(input()) # N시 59분 59초, N은 0 ~ 23까지.\n",
    "\n",
    "three = [3, 13, 23, 30, 31, 32, 33, 34, 35, 36, 37, 38, 39, 43, 53]\n",
    "result = 0\n",
    "\n",
    "if N == 0 :\n",
    "    print(\"0\")\n",
    "elif N != 0 :\n",
    "    for i in range(0, N+1):\n",
    "        for j in range(0, 60):\n",
    "            for k in range(0, 60):\n",
    "                if i in three or j in three or k in three :\n",
    "                    result += 1\n",
    "                    \n",
    "                    \n",
    "print(result)"
   ]
  },
  {
   "cell_type": "code",
   "execution_count": 21,
   "metadata": {},
   "outputs": [
    {
     "name": "stdout",
     "output_type": "stream",
     "text": [
      "5\n",
      "11475\n"
     ]
    }
   ],
   "source": [
    "# 구현 4 - 2 해설\n",
    "\n",
    "h = int(input())\n",
    "\n",
    "count = 0\n",
    "for i in range(h + 1):\n",
    "    for j in range(60):\n",
    "        for k in range(60):\n",
    "            if '3' in str(i) + str(j) + str(k):\n",
    "                count += 1\n",
    "print(count)"
   ]
  },
  {
   "cell_type": "code",
   "execution_count": 14,
   "metadata": {},
   "outputs": [
    {
     "name": "stdout",
     "output_type": "stream",
     "text": [
      "a3\n",
      "3\n"
     ]
    }
   ],
   "source": [
    "# 구현 4 - 3\n",
    "\n",
    "# 8X8 평면에서 나이트가 움직일수 있는 경우의 수 구하기.\n",
    "# a - h\n",
    "# 1 - 8\n",
    "\n",
    "knight = input()\n",
    "\n",
    "width =['a', 'b', 'c', 'd', 'e', 'f', 'g', 'h']\n",
    "height = [str(i) for i in range(1,9)]\n",
    "step = [(2,1), (2,-1), (-2,1), (-2,-1), (1, 2), (1, -2), (-1, 2), (-1, -2)]\n",
    "\n",
    "now_x = width.index(knight[0])\n",
    "now_y = height.index(knight[1])\n",
    "\n",
    "# \n",
    "\n",
    "result = 0\n",
    "\n",
    "for i in range(len(step)) :\n",
    "    if now_x + step[i][0] > 0 and now_x + step[i][0] < width.index('h'):\n",
    "        if now_y + step[i][1] > 0 and now_y + step[i][1] < height.index('8'):\n",
    "            result += 1\n",
    "\n",
    "print(result)\n",
    "                "
   ]
  },
  {
   "cell_type": "code",
   "execution_count": 15,
   "metadata": {},
   "outputs": [
    {
     "name": "stdout",
     "output_type": "stream",
     "text": [
      "a1\n",
      "2\n"
     ]
    }
   ],
   "source": [
    "# 4 - 3 해설\n",
    "\n",
    "input_data = input()\n",
    "row = int(input_data[1])\n",
    "column = int(ord(input_data[0])) - int(ord('a')) + 1\n",
    "\n",
    "steps = [(2,1), (2,-1), (-2,1), (-2,-1), (1, 2), (1, -2), (-1, 2), (-1, -2)]\n",
    "\n",
    "result = 0\n",
    "for step in steps:\n",
    "    next_row = row + step[0]\n",
    "    next_column = column + step[1]\n",
    "    if next_row >=1 and next_row <= 8 and next_column >= 1 and next_column <= 8 :\n",
    "        result += 1\n",
    "        \n",
    "print(result)"
   ]
  },
  {
   "cell_type": "code",
   "execution_count": null,
   "metadata": {},
   "outputs": [],
   "source": []
  }
 ],
 "metadata": {
  "kernelspec": {
   "display_name": "Python 3",
   "language": "python",
   "name": "python3"
  },
  "language_info": {
   "codemirror_mode": {
    "name": "ipython",
    "version": 3
   },
   "file_extension": ".py",
   "mimetype": "text/x-python",
   "name": "python",
   "nbconvert_exporter": "python",
   "pygments_lexer": "ipython3",
   "version": "3.8.5"
  }
 },
 "nbformat": 4,
 "nbformat_minor": 4
}
