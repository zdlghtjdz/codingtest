{
 "cells": [
  {
   "cell_type": "code",
   "execution_count": 29,
   "metadata": {},
   "outputs": [
    {
     "name": "stdout",
     "output_type": "stream",
     "text": [
      "mislav\n",
      "['ana', 'mislav', 'stanko']\n",
      "['ana', 'mislav', 'mislav', 'stanko']\n",
      "[1, 1, 0, 1]\n"
     ]
    }
   ],
   "source": [
    "participant = [\"mislav\", \"stanko\", \"mislav\", \"ana\"]\n",
    "\n",
    "completion =  [\"stanko\", \"ana\", \"mislav\"]\n",
    "\n",
    "test = [0] * len(participant)\n",
    "\n",
    "answer = ''\n",
    "\n",
    "participant.sort()\n",
    "completion.sort()\n",
    "\n",
    "for i in completion:\n",
    "    if i in participant:\n",
    "        test[participant.index(i)] = 1\n",
    "        \n",
    "for i in range(len(test)):\n",
    "    if test[i] == 0 :\n",
    "        answer += participant[i] \n",
    "                \n",
    "print(answer)\n",
    "print(completion)\n",
    "print(participant)\n",
    "print(test)"
   ]
  },
  {
   "cell_type": "code",
   "execution_count": 12,
   "metadata": {},
   "outputs": [
    {
     "name": "stdout",
     "output_type": "stream",
     "text": [
      "2\n"
     ]
    }
   ],
   "source": [
    "print(completion.index(\"mislav\"))"
   ]
  },
  {
   "cell_type": "code",
   "execution_count": 16,
   "metadata": {},
   "outputs": [],
   "source": [
    "completion[2] = \"null\""
   ]
  },
  {
   "cell_type": "code",
   "execution_count": 17,
   "metadata": {},
   "outputs": [
    {
     "data": {
      "text/plain": [
       "['stanko', 'ana', 'null']"
      ]
     },
     "execution_count": 17,
     "metadata": {},
     "output_type": "execute_result"
    }
   ],
   "source": [
    "completion"
   ]
  },
  {
   "cell_type": "code",
   "execution_count": 23,
   "metadata": {},
   "outputs": [
    {
     "data": {
      "text/plain": [
       "3"
      ]
     },
     "execution_count": 23,
     "metadata": {},
     "output_type": "execute_result"
    }
   ],
   "source": [
    "len(completion)"
   ]
  },
  {
   "cell_type": "code",
   "execution_count": 25,
   "metadata": {},
   "outputs": [
    {
     "data": {
      "text/plain": [
       "range(0, 4)"
      ]
     },
     "execution_count": 25,
     "metadata": {},
     "output_type": "execute_result"
    }
   ],
   "source": [
    "range(len(participant))"
   ]
  },
  {
   "cell_type": "code",
   "execution_count": 37,
   "metadata": {},
   "outputs": [
    {
     "name": "stdout",
     "output_type": "stream",
     "text": [
      "{'ana': 1, 'mislav': 2, 'stanko': 1}\n",
      "{'ana': 1, 'mislav': 1, 'stanko': 1}\n",
      "ana\n",
      "1\n",
      "mislav\n",
      "2\n",
      "stanko\n",
      "1\n"
     ]
    }
   ],
   "source": [
    "count = {}\n",
    "count2 = {}\n",
    "lists = [\"a\", \"b\", \"b\", \"c\", \"c\", \"d\"]\n",
    "for i in participant:\n",
    "    try: count[i] += 1\n",
    "    except: count[i] = 1\n",
    "\n",
    "for i in completion:\n",
    "    try: count2[i] += 1\n",
    "    except: count2[i] = 1\n",
    "\n",
    "\n",
    "\n",
    "print(count)\n",
    "print(count2)\n",
    "\n",
    "for i in count:\n",
    "    print(i)\n",
    "    print(count[i])"
   ]
  },
  {
   "cell_type": "code",
   "execution_count": 45,
   "metadata": {},
   "outputs": [
    {
     "ename": "SyntaxError",
     "evalue": "invalid syntax (<ipython-input-45-3dd0af6b4389>, line 33)",
     "output_type": "error",
     "traceback": [
      "\u001b[1;36m  File \u001b[1;32m\"<ipython-input-45-3dd0af6b4389>\"\u001b[1;36m, line \u001b[1;32m33\u001b[0m\n\u001b[1;33m    if answer not NULL:\u001b[0m\n\u001b[1;37m                  ^\u001b[0m\n\u001b[1;31mSyntaxError\u001b[0m\u001b[1;31m:\u001b[0m invalid syntax\n"
     ]
    }
   ],
   "source": [
    "participant = [\"leo\", \"kiki\", \"eden\"]\n",
    "\n",
    "completion =  [\"eden\", \"kiki\"]\n",
    "\n",
    "participant.sort()\n",
    "completion.sort()\n",
    "answer = ''\n",
    "\n",
    "part_dic = {}\n",
    "comp_dic = {}\n",
    "answ_dic = {}\n",
    "    \n",
    "for i in participant:\n",
    "    try : part_dic[i] += 1\n",
    "    except : part_dic[i] = 1\n",
    "            \n",
    "for i in completion:\n",
    "    try : comp_dic[i] += 1\n",
    "    except : comp_dic[i] = 1\n",
    "    \n",
    "# 중복 검사.\n",
    "for i in comp_dic:\n",
    "    if part_dic[i] > comp_dic[i] :\n",
    "        part_dic[i] = part_dic[i] - comp_dic[i]\n",
    "\n",
    "for i in part_dic:\n",
    "    if part_dic[i] >=  1\n",
    "        answer += i\n",
    "\n",
    "    print(answer)"
   ]
  },
  {
   "cell_type": "code",
   "execution_count": null,
   "metadata": {},
   "outputs": [],
   "source": [
    "# 최종 답안\n",
    "\n",
    "\n",
    "def solution(participant, completion):\n",
    "\n",
    "    answer = ''\n",
    "    \n",
    "    #participant 마라톤 참여 선수\n",
    "    #completion 마라톤 완주 선수\n",
    "    #완주하지 못한 선수는 한 명.          \n",
    "        \n",
    "    part_dic = {}\n",
    "    comp_dic = {}\n",
    "        \n",
    "    for i in participant:\n",
    "        try : part_dic[i] += 1\n",
    "        except : part_dic[i] = 1\n",
    "            \n",
    "    for i in completion:\n",
    "        try : comp_dic[i] += 1\n",
    "        except : comp_dic[i] = 1\n",
    "        \n",
    "    for i in comp_dic:\n",
    "        part_dic[i] = part_dic[i] - comp_dic[i]\n",
    "    \n",
    "    for i in part_dic:\n",
    "        if part_dic[i] >= 1:\n",
    "            answer += i\n",
    "            break\n",
    "        \n",
    "    return answer"
   ]
  }
 ],
 "metadata": {
  "kernelspec": {
   "display_name": "Python 3",
   "language": "python",
   "name": "python3"
  },
  "language_info": {
   "codemirror_mode": {
    "name": "ipython",
    "version": 3
   },
   "file_extension": ".py",
   "mimetype": "text/x-python",
   "name": "python",
   "nbconvert_exporter": "python",
   "pygments_lexer": "ipython3",
   "version": "3.8.5"
  }
 },
 "nbformat": 4,
 "nbformat_minor": 4
}
