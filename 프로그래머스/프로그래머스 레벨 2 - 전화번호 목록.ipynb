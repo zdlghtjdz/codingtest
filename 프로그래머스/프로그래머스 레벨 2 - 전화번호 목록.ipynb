{
 "cells": [
  {
   "cell_type": "code",
   "execution_count": 35,
   "metadata": {},
   "outputs": [
    {
     "name": "stdout",
     "output_type": "stream",
     "text": [
      "False\n",
      "True\n"
     ]
    }
   ],
   "source": [
    "# 91점\n",
    "\n",
    "\n",
    "phone_book = [\"119\",  \"1195524421\", \"97674223\"]\n",
    "phone_len = []\n",
    "phone_book.sort(key=len)\n",
    "\n",
    "for i in range(len(phone_book)):\n",
    "    for j in range(i+1, len(phone_book)):\n",
    "        if phone_book[j].startswith(phone_book[i]) == True:\n",
    "            print(\"False\")\n",
    "    \n",
    "print(\"True\")\n",
    "\n"
   ]
  },
  {
   "cell_type": "code",
   "execution_count": null,
   "metadata": {},
   "outputs": [],
   "source": [
    "# 풀이 해답\n",
    "def solution(phoneBook):\n",
    "    phoneBook = sorted(phoneBook)\n",
    "\n",
    "    for p1, p2 in zip(phoneBook, phoneBook[1:]):\n",
    "        if p2.startswith(p1):\n",
    "            return False\n",
    "    return True\n",
    "\n",
    "\n",
    "# 91점 짜리 내 코드\n",
    "def solution(phone_book):\n",
    "    answer = True\n",
    "    \n",
    "    phone_book.sort()\n",
    "    \n",
    "    len_pb = len(phone_book)\n",
    "    \n",
    "    for i in range(len_pb):\n",
    "        for j in range(i+1, len_pb):\n",
    "            if phone_book[j].startswith(phone_book[i]) == True:\n",
    "                return False            \n",
    "            \n",
    "    return True"
   ]
  },
  {
   "cell_type": "code",
   "execution_count": 42,
   "metadata": {},
   "outputs": [
    {
     "name": "stdout",
     "output_type": "stream",
     "text": [
      "['12', '123', '1235', '567', '88']\n",
      "False\n"
     ]
    }
   ],
   "source": [
    "phone_book = [\"12\",\"567\",\"123\",\"88\",\"1235\"]\n",
    "\n",
    "phoneBook = sorted(phone_book)\n",
    "print(phoneBook)\n",
    "for p1, p2 in zip(phoneBook, phoneBook[1:]):\n",
    "    if p2.startswith(p1):\n",
    "        print(\"False\")\n",
    "        break\n",
    "    print(p1, p2)\n",
    "\n"
   ]
  },
  {
   "cell_type": "code",
   "execution_count": null,
   "metadata": {},
   "outputs": [],
   "source": []
  }
 ],
 "metadata": {
  "kernelspec": {
   "display_name": "Python 3",
   "language": "python",
   "name": "python3"
  },
  "language_info": {
   "codemirror_mode": {
    "name": "ipython",
    "version": 3
   },
   "file_extension": ".py",
   "mimetype": "text/x-python",
   "name": "python",
   "nbconvert_exporter": "python",
   "pygments_lexer": "ipython3",
   "version": "3.8.5"
  }
 },
 "nbformat": 4,
 "nbformat_minor": 4
}
