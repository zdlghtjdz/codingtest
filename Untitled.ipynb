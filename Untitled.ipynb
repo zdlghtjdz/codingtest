{
 "cells": [
  {
   "cell_type": "code",
   "execution_count": 5,
   "metadata": {},
   "outputs": [
    {
     "data": {
      "text/plain": [
       "3"
      ]
     },
     "execution_count": 5,
     "metadata": {},
     "output_type": "execute_result"
    }
   ],
   "source": [
    "word = ['zero', 'one', 'two', 'three', 'four', 'five', 'six', 'seven', 'eight', 'nine']\n",
    "len(word[1])"
   ]
  },
  {
   "cell_type": "code",
   "execution_count": 6,
   "metadata": {},
   "outputs": [
    {
     "data": {
      "text/plain": [
       "1"
      ]
     },
     "execution_count": 6,
     "metadata": {},
     "output_type": "execute_result"
    }
   ],
   "source": [
    "num = '1'\n",
    "int(num)"
   ]
  },
  {
   "cell_type": "code",
   "execution_count": 7,
   "metadata": {},
   "outputs": [
    {
     "ename": "KeyboardInterrupt",
     "evalue": "",
     "output_type": "error",
     "traceback": [
      "\u001b[1;31m---------------------------------------------------------------------------\u001b[0m",
      "\u001b[1;31mKeyboardInterrupt\u001b[0m                         Traceback (most recent call last)",
      "\u001b[1;32m<ipython-input-7-97e1f883eebd>\u001b[0m in \u001b[0;36m<module>\u001b[1;34m\u001b[0m\n\u001b[0;32m     10\u001b[0m \u001b[1;33m\u001b[0m\u001b[0m\n\u001b[0;32m     11\u001b[0m     \u001b[1;32mif\u001b[0m \u001b[0ms\u001b[0m\u001b[1;33m[\u001b[0m\u001b[0mindex\u001b[0m\u001b[1;33m]\u001b[0m\u001b[1;33m.\u001b[0m\u001b[0misdigit\u001b[0m \u001b[1;33m!=\u001b[0m \u001b[1;32mTrue\u001b[0m \u001b[1;33m:\u001b[0m \u001b[1;31m# 첫 글자가 문자라면.\u001b[0m\u001b[1;33m\u001b[0m\u001b[1;33m\u001b[0m\u001b[0m\n\u001b[1;32m---> 12\u001b[1;33m         \u001b[1;32mfor\u001b[0m \u001b[0mi\u001b[0m \u001b[1;32min\u001b[0m \u001b[0mrange\u001b[0m\u001b[1;33m(\u001b[0m\u001b[0mlen\u001b[0m\u001b[1;33m(\u001b[0m\u001b[0mword\u001b[0m\u001b[1;33m)\u001b[0m\u001b[1;33m)\u001b[0m\u001b[1;33m:\u001b[0m\u001b[1;33m\u001b[0m\u001b[1;33m\u001b[0m\u001b[0m\n\u001b[0m\u001b[0;32m     13\u001b[0m             \u001b[0mtmp\u001b[0m \u001b[1;33m=\u001b[0m \u001b[1;34m''\u001b[0m\u001b[1;33m\u001b[0m\u001b[1;33m\u001b[0m\u001b[0m\n\u001b[0;32m     14\u001b[0m             \u001b[1;32mfor\u001b[0m \u001b[0mj\u001b[0m \u001b[1;32min\u001b[0m \u001b[0mrange\u001b[0m\u001b[1;33m(\u001b[0m\u001b[0mlen\u001b[0m\u001b[1;33m(\u001b[0m\u001b[0mword\u001b[0m\u001b[1;33m[\u001b[0m\u001b[0mi\u001b[0m\u001b[1;33m]\u001b[0m\u001b[1;33m)\u001b[0m \u001b[1;33m-\u001b[0m \u001b[1;36m1\u001b[0m\u001b[1;33m)\u001b[0m\u001b[1;33m:\u001b[0m\u001b[1;33m\u001b[0m\u001b[1;33m\u001b[0m\u001b[0m\n",
      "\u001b[1;31mKeyboardInterrupt\u001b[0m: "
     ]
    }
   ],
   "source": [
    "s = 'one4seveneight'\n",
    "answer = ''\n",
    "index = 0\n",
    "num = ['0', '1', '2', '3', '4', '5', '6', '7', '8', '9']\n",
    "word = ['zero', 'one', 'two', 'three', 'four', 'five', 'six', 'seven', 'eight', 'nine']\n",
    "    \n",
    "while True :\n",
    "    if len(s) <= index :\n",
    "        break\n",
    "        \n",
    "    if s[index].isdigit == False : # 첫 글자가 문자라면.\n",
    "        for i in range(len(word)):\n",
    "            tmp = ''\n",
    "            for j in range(len(word[i]) - 1):\n",
    "                tmp += s[index + j]\n",
    "                #index ~ index + len(i) - 1\n",
    "            if tmp == word[i]:\n",
    "                answer += num[i]\n",
    "                index += len(word[i]) # 인덱스는 다음 단어를 가리킴\n",
    "        \n",
    "    else : # 첫 글자가 숫자라면.\n",
    "        for i in range(len(num)):\n",
    "            if s[index] == num[i]:\n",
    "                answer += num[i]\n",
    "                index += 1\n",
    "                "
   ]
  },
  {
   "cell_type": "code",
   "execution_count": 9,
   "metadata": {},
   "outputs": [
    {
     "data": {
      "text/plain": [
       "False"
      ]
     },
     "execution_count": 9,
     "metadata": {},
     "output_type": "execute_result"
    }
   ],
   "source": [
    "s = 'one4seveneight'\n",
    "index = 0\n",
    "s[index].isdigit()"
   ]
  },
  {
   "cell_type": "code",
   "execution_count": 16,
   "metadata": {},
   "outputs": [
    {
     "name": "stdout",
     "output_type": "stream",
     "text": [
      "True\n"
     ]
    },
    {
     "data": {
      "text/plain": [
       "True"
      ]
     },
     "execution_count": 16,
     "metadata": {},
     "output_type": "execute_result"
    }
   ],
   "source": [
    "s = 'one4seveneight'\n",
    "index = 0\n",
    "num = ['0', '1', '2', '3', '4', '5', '6', '7', '8', '9']\n",
    "word = ['zero', 'one', 'two', 'three', 'four', 'five', 'six', 'seven', 'eight', 'nine']\n",
    "\n",
    "print(word[1] in s)\n",
    "\n",
    "s.startswith(word[1])\n",
    "len"
   ]
  },
  {
   "cell_type": "code",
   "execution_count": 30,
   "metadata": {},
   "outputs": [
    {
     "name": "stdout",
     "output_type": "stream",
     "text": [
      "234567\n"
     ]
    }
   ],
   "source": [
    "s = '23four5six7'\n",
    "answer = ''\n",
    "index = 0\n",
    "num = ['0', '1', '2', '3', '4', '5', '6', '7', '8', '9']\n",
    "word = ['zero', 'one', 'two', 'three', 'four', 'five', 'six', 'seven', 'eight', 'nine']\n",
    "\n",
    "while True :\n",
    "    tmp = s[index:]\n",
    "    if tmp == '':\n",
    "        break\n",
    "        \n",
    "    if s[index].isdigit() != True :\n",
    "        for i in range(len(word)):\n",
    "            if tmp.startswith(word[i]) == True:\n",
    "                answer += num[i]\n",
    "                index += len(word[i])\n",
    "                break\n",
    "        \n",
    "    else :\n",
    "        for i in range(len(num)):\n",
    "            if tmp.startswith(num[i]) == True:\n",
    "                answer += num[i]\n",
    "                index += 1\n",
    "                break\n",
    "    \n",
    "\n",
    "print(answer)"
   ]
  },
  {
   "cell_type": "code",
   "execution_count": 23,
   "metadata": {},
   "outputs": [
    {
     "data": {
      "text/plain": [
       "'4seveneight'"
      ]
     },
     "execution_count": 23,
     "metadata": {},
     "output_type": "execute_result"
    }
   ],
   "source": [
    "s = 'one4seveneight'\n",
    "s = s[3:]\n",
    "s"
   ]
  },
  {
   "cell_type": "code",
   "execution_count": 26,
   "metadata": {},
   "outputs": [
    {
     "data": {
      "text/plain": [
       "True"
      ]
     },
     "execution_count": 26,
     "metadata": {},
     "output_type": "execute_result"
    }
   ],
   "source": [
    "s = 'one4seveneight'\n",
    "index = 3\n",
    "s[index].isdigit()"
   ]
  },
  {
   "cell_type": "code",
   "execution_count": 31,
   "metadata": {},
   "outputs": [
    {
     "ename": "NameError",
     "evalue": "name 'n' is not defined",
     "output_type": "error",
     "traceback": [
      "\u001b[1;31m---------------------------------------------------------------------------\u001b[0m",
      "\u001b[1;31mNameError\u001b[0m                                 Traceback (most recent call last)",
      "\u001b[1;32m<ipython-input-31-039f15e1f45d>\u001b[0m in \u001b[0;36m<module>\u001b[1;34m\u001b[0m\n\u001b[0;32m      6\u001b[0m \u001b[1;31m# 삭제한 원소(인덱스)는 스택에 넣는다.\u001b[0m\u001b[1;33m\u001b[0m\u001b[1;33m\u001b[0m\u001b[1;33m\u001b[0m\u001b[0m\n\u001b[0;32m      7\u001b[0m \u001b[1;33m\u001b[0m\u001b[0m\n\u001b[1;32m----> 8\u001b[1;33m \u001b[0mlist\u001b[0m \u001b[1;33m=\u001b[0m \u001b[1;33m[\u001b[0m\u001b[1;36m1\u001b[0m\u001b[1;33m]\u001b[0m \u001b[1;33m*\u001b[0m \u001b[0mn\u001b[0m\u001b[1;33m\u001b[0m\u001b[1;33m\u001b[0m\u001b[0m\n\u001b[0m\u001b[0;32m      9\u001b[0m \u001b[1;33m\u001b[0m\u001b[0m\n\u001b[0;32m     10\u001b[0m \u001b[0mremove\u001b[0m \u001b[1;33m=\u001b[0m \u001b[1;33m[\u001b[0m\u001b[1;33m]\u001b[0m\u001b[1;33m\u001b[0m\u001b[1;33m\u001b[0m\u001b[0m\n",
      "\u001b[1;31mNameError\u001b[0m: name 'n' is not defined"
     ]
    }
   ],
   "source": [
    "# 처음 표의 행 개수를 나타내는 정수 n\n",
    "# 처음에 선택된 행의 위치를 나타내는 정수 k\n",
    "# 수행한 명령어들이 담긴 문자열 배열 cmd\n",
    "# cmd의 각 원소는 \"U X\", \"D X\", \"C\", \"Z\" 중 하나입니다.\n",
    "\n",
    "# 삭제한 원소(인덱스)는 스택에 넣는다.\n",
    "\n",
    "list = [1] * n\n",
    "\n",
    "remove = []\n",
    "\n",
    "index = k\n",
    "\n"
   ]
  },
  {
   "cell_type": "code",
   "execution_count": 35,
   "metadata": {},
   "outputs": [
    {
     "name": "stdout",
     "output_type": "stream",
     "text": [
      "ZZZZ\n"
     ]
    }
   ],
   "source": [
    "a = \"Z\"\n",
    "\n",
    "if a[0] == 'U':\n",
    "    print('UP')\n",
    "elif a[0] == 'D':\n",
    "    print('DOWN')\n",
    "elif a[0] == 'C':\n",
    "    print(\"CANCEL\")\n",
    "elif a[0] == 'Z':\n",
    "    print('ZZZZ')"
   ]
  },
  {
   "cell_type": "code",
   "execution_count": 53,
   "metadata": {},
   "outputs": [
    {
     "name": "stdout",
     "output_type": "stream",
     "text": [
      "[1, 1, 1, 1, 1, 1, 1, 1, 0, 0, 1]\n"
     ]
    },
    {
     "data": {
      "text/plain": [
       "2"
      ]
     },
     "execution_count": 53,
     "metadata": {},
     "output_type": "execute_result"
    }
   ],
   "source": [
    "n = 11\n",
    "l = [1] * n\n",
    "index = 8\n",
    "l[8] = 0\n",
    "l[9] = 0\n",
    "#l[10] = 0\n",
    "#if 1 in l[index:] :|\n",
    "#    print('HI')\n",
    "print(l)\n",
    "l[index:].index(1)"
   ]
  },
  {
   "cell_type": "code",
   "execution_count": 46,
   "metadata": {},
   "outputs": [
    {
     "name": "stdout",
     "output_type": "stream",
     "text": [
      "[1, 2, 3, 4]\n",
      "[1, 2, 3]\n"
     ]
    }
   ],
   "source": [
    "a = [1, 2, 3]\n",
    "a.append(4)\n",
    "print(a)\n",
    "a.pop()\n",
    "print(a)"
   ]
  },
  {
   "cell_type": "code",
   "execution_count": 54,
   "metadata": {},
   "outputs": [],
   "source": [
    "n = 8\n",
    "l = [1] * n\n",
    "remove_index = []\n",
    "index = 2\n",
    "\n",
    "# D 2\n",
    "index += 2\n",
    "# C\n",
    "remove_index.append(index)\n",
    "index += 1\n",
    "# U 3\n",
    "\n"
   ]
  },
  {
   "cell_type": "code",
   "execution_count": 57,
   "metadata": {},
   "outputs": [
    {
     "name": "stdout",
     "output_type": "stream",
     "text": [
      "Original list : [1, 3, 4, 3, 6, 7]\n",
      "New indices list : [1, 3]\n"
     ]
    }
   ],
   "source": [
    "test_list = [1, 3, 4, 3, 6, 7]\n",
    "print(\"Original list : \" + str(test_list))\n",
    "res_list = [i for i, value in enumerate(test_list) if value == 3]\n",
    "print(\"New indices list : \" + str(res_list))"
   ]
  },
  {
   "cell_type": "code",
   "execution_count": 59,
   "metadata": {},
   "outputs": [
    {
     "name": "stdout",
     "output_type": "stream",
     "text": [
      "Original list : [1, 3, 4, 3, 6, 7]\n",
      "New indices list : [1, 3]\n"
     ]
    }
   ],
   "source": [
    "test_list = [1, 3, 4, 3, 6, 7]\n",
    "print(\"Original list : \" + str(test_list))\n",
    "res_list = list(filter(lambda x: test_list[x] == 3, range(len(test_list))))\n",
    "print(\"New indices list : \" + str(res_list))"
   ]
  },
  {
   "cell_type": "code",
   "execution_count": null,
   "metadata": {},
   "outputs": [],
   "source": [
    "if cmd[i][0] == 'U':\n",
    "            goal = int(cmd[i][2])\n",
    "            while goal != 0: \n",
    "                index -= 1\n",
    "                if l[index] == 'X':\n",
    "                    continue\n",
    "                goal -= 1\n",
    "\n",
    "        elif cmd[i][0] == 'D':            \n",
    "            goal = int(cmd[i][2])\n",
    "            while goal != 0: \n",
    "                index += 1\n",
    "                if l[index] == 'X':\n",
    "                    continue\n",
    "                goal -= 1\n",
    "\n",
    "        elif cmd[i][0] == 'C':\n",
    "            remove_index.append(index)\n",
    "            l[index] = 'X'\n",
    "            if 'O' in l[index:] :\n",
    "                while True :\n",
    "                    index += 1\n",
    "                    if l[index] == 'O':\n",
    "                        break                    \n",
    "            else :\n",
    "                while True :\n",
    "                    index -= 1\n",
    "                    if l[index] == 'O':\n",
    "                        break\n",
    "        elif cmd[i][0] == 'Z':\n",
    "            tmp = remove_index.pop()\n",
    "            l[tmp] = 'O'"
   ]
  }
 ],
 "metadata": {
  "kernelspec": {
   "display_name": "Python 3",
   "language": "python",
   "name": "python3"
  },
  "language_info": {
   "codemirror_mode": {
    "name": "ipython",
    "version": 3
   },
   "file_extension": ".py",
   "mimetype": "text/x-python",
   "name": "python",
   "nbconvert_exporter": "python",
   "pygments_lexer": "ipython3",
   "version": "3.8.5"
  }
 },
 "nbformat": 4,
 "nbformat_minor": 4
}
