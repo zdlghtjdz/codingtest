{
 "cells": [
  {
   "cell_type": "code",
   "execution_count": 4,
   "metadata": {},
   "outputs": [
    {
     "name": "stdout",
     "output_type": "stream",
     "text": [
      "4\n",
      "[1, 1, 1, 1, 2]\n"
     ]
    }
   ],
   "source": [
    "\n",
    "lost = [2, 4]\n",
    "reserve = [1, 3, 5]\n",
    "n = 5\n",
    "\n",
    "answer = 0\n",
    "    \n",
    "    # 1 2 3 4 5\n",
    "    # 1   3   5  reserve\n",
    "    #   2   4    lost\n",
    "    \n",
    "    # 1 2 3 4 5\n",
    "    #     3      reseve\n",
    "    #   2   4    lost\n",
    "    \n",
    "student = [1] * n\n",
    "for i in reserve:\n",
    "    student[i-1] += 1\n",
    "    \n",
    "for i in lost:\n",
    "    student[i-1] -= 1\n",
    "        \n",
    "for i in range(len(student)) :\n",
    "    if student[i] == 2:\n",
    "        if i > 0 and i < n-1 :\n",
    "            if student[i+1] == 0:\n",
    "                student[i] -= 1\n",
    "                student[i+1] += 1\n",
    "            elif student[i-1] == 0:\n",
    "                student[i] -= 1\n",
    "                student[i-1] += 1        \n",
    "        elif i == 0:\n",
    "            if student[i+1] == 0:\n",
    "                student[i] -= 1\n",
    "                student[i+1] += 1\n",
    "        elif i == n:\n",
    "            if student[i-1] == 0:\n",
    "                student[i] -= 1\n",
    "                student[i-1] += 1\n",
    "            \n",
    "for i in student:\n",
    "    if i == 1:\n",
    "        answer += 1\n",
    "    \n",
    "print(answer)\n",
    "print(student)"
   ]
  },
  {
   "cell_type": "code",
   "execution_count": null,
   "metadata": {},
   "outputs": [],
   "source": []
  }
 ],
 "metadata": {
  "kernelspec": {
   "display_name": "Python 3",
   "language": "python",
   "name": "python3"
  },
  "language_info": {
   "codemirror_mode": {
    "name": "ipython",
    "version": 3
   },
   "file_extension": ".py",
   "mimetype": "text/x-python",
   "name": "python",
   "nbconvert_exporter": "python",
   "pygments_lexer": "ipython3",
   "version": "3.8.5"
  }
 },
 "nbformat": 4,
 "nbformat_minor": 4
}
