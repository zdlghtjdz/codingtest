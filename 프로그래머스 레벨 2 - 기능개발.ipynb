{
 "cells": [
  {
   "cell_type": "code",
   "execution_count": 26,
   "metadata": {},
   "outputs": [
    {
     "name": "stdout",
     "output_type": "stream",
     "text": [
      "[1, 0, 2]\n",
      "{1: 3, 0: 7, 2: 9}\n",
      "{0: 7, 1: 7, 2: 9}\n",
      "[2, 1]\n"
     ]
    }
   ],
   "source": [
    "import collections\n",
    "\n",
    "progresses = [93, 30, 55]\n",
    "speeds = [1, 30, 5]\n",
    "\n",
    "answer = []\n",
    "    \n",
    "complete = {}\n",
    "index_list = []\n",
    "# 몇일 남았는지를 계산하자.\n",
    "day = 1\n",
    "while True:\n",
    "    if len(complete) == len(progresses):\n",
    "        break\n",
    "        \n",
    "        \n",
    "    for i in range(len(progresses)):\n",
    "        if (i in index_list) == True :\n",
    "            continue\n",
    "                \n",
    "        progresses[i] += speeds[i]\n",
    "        #print(progresses[i])     \n",
    "        if progresses[i] >= 100:\n",
    "            complete.setdefault(i, day)\n",
    "            index_list.append(i)\n",
    "          \n",
    "    day += 1\n",
    "\n",
    "print(index_list)\n",
    "print(complete)\n",
    "\n",
    "s_complete = dict(sorted(complete.items(), key = lambda x : x[0]))\n",
    "\n",
    "max = 0\n",
    "for i in s_complete:\n",
    "    if s_complete[i] > max :\n",
    "        max = s_complete[i]\n",
    "    \n",
    "    else:\n",
    "        s_complete[i] = max\n",
    "\n",
    "print(s_complete)\n",
    "\n",
    "a = list(s_complete.values())\n",
    "\n",
    "b = dict(collections.Counter(a))\n",
    "b\n",
    "for i in b:\n",
    "    answer.append(b[i])\n",
    "    \n",
    "print(answer)"
   ]
  },
  {
   "cell_type": "code",
   "execution_count": null,
   "metadata": {},
   "outputs": [],
   "source": []
  }
 ],
 "metadata": {
  "kernelspec": {
   "display_name": "Python 3",
   "language": "python",
   "name": "python3"
  },
  "language_info": {
   "codemirror_mode": {
    "name": "ipython",
    "version": 3
   },
   "file_extension": ".py",
   "mimetype": "text/x-python",
   "name": "python",
   "nbconvert_exporter": "python",
   "pygments_lexer": "ipython3",
   "version": "3.8.5"
  }
 },
 "nbformat": 4,
 "nbformat_minor": 4
}
