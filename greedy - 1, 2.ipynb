{
 "cells": [
  {
   "cell_type": "code",
   "execution_count": 18,
   "metadata": {},
   "outputs": [
    {
     "name": "stdout",
     "output_type": "stream",
     "text": [
      "4770\n",
      "[9, 2, 1, 2]\n"
     ]
    }
   ],
   "source": [
    "# 3-1 거스름돈\n",
    "\n",
    "change = [500, 100, 50, 10]\n",
    "\n",
    "money = int(input())\n",
    "\n",
    "coin_list = []\n",
    "\n",
    "for i in range(len(change)):\n",
    "    if int(change[i]) < money :\n",
    "        coin_list.append((money // int(change[i])))\n",
    "        money = money - (money // int(change[i])) * int(change[i])    \n",
    "        \n",
    "print(coin_list)"
   ]
  },
  {
   "cell_type": "code",
   "execution_count": 23,
   "metadata": {},
   "outputs": [
    {
     "name": "stdout",
     "output_type": "stream",
     "text": [
      "10\n"
     ]
    }
   ],
   "source": [
    "# 3-1 거스름돈 해설\n",
    "\n",
    "n = 1260\n",
    "count = 0\n",
    "\n",
    "coin_types = [500, 100, 50, 10]\n",
    "\n",
    "for coin in coin_types:\n",
    "    count += n // coin\n",
    "    n %= coin\n",
    "    \n",
    "print(coin)"
   ]
  },
  {
   "cell_type": "code",
   "execution_count": 22,
   "metadata": {},
   "outputs": [
    {
     "name": "stdout",
     "output_type": "stream",
     "text": [
      "5 8 3\n",
      "2 4 5 4 6\n",
      "[6, 5, 4, 4, 2]\n",
      "46\n"
     ]
    }
   ],
   "source": [
    "# 3-2 큰 수의 법칙\n",
    "\n",
    "nmk = list(map(int, input().split()))\n",
    "array = list(map(int, input().split()))\n",
    "\n",
    "n = nmk[0] # 배열의 크기\n",
    "m = nmk[1] # 숫자가 더해지는 횟수\n",
    "k = nmk[2] # 연속해서 더할 수 있는 횟수\n",
    "\n",
    "array.sort(reverse=True)\n",
    "print(array)\n",
    "index = 0\n",
    "sum = 0\n",
    "for i in range(m) :\n",
    "    if (i + 1) % k == 0 :\n",
    "        sum += array[index+1]\n",
    "    else:\n",
    "        if index != 0 :\n",
    "            index = 0\n",
    "        sum += array[index]\n",
    "            \n",
    "            \n",
    "print(sum)\n",
    "            \n"
   ]
  },
  {
   "cell_type": "code",
   "execution_count": 25,
   "metadata": {},
   "outputs": [
    {
     "name": "stdout",
     "output_type": "stream",
     "text": [
      "5 8 3\n",
      "2 4 5 4 6\n",
      "46\n"
     ]
    }
   ],
   "source": [
    "# 3-2 큰수의 법칙(해설 1)\n",
    "\n",
    "n, m, k = map(int, input().split())\n",
    "data = list(map(int, input().split()))\n",
    "\n",
    "data.sort()\n",
    "first = data[n - 1]\n",
    "second = data[n - 2]\n",
    "\n",
    "result = 0\n",
    "\n",
    "while True:\n",
    "    for i in range(k):\n",
    "        if m == 0:\n",
    "            break\n",
    "        result += first\n",
    "        m -= 1\n",
    "    if m == 0 :\n",
    "        break\n",
    "    result += second\n",
    "    m -= 1\n",
    "    \n",
    "print(result)"
   ]
  },
  {
   "cell_type": "code",
   "execution_count": 26,
   "metadata": {},
   "outputs": [
    {
     "name": "stdout",
     "output_type": "stream",
     "text": [
      "5 8 3\n",
      "2 4 5 4 6\n",
      "46\n"
     ]
    }
   ],
   "source": [
    "# 3-2 큰수의 법칙(해설 2 - 수열 이용)\n",
    "\n",
    "n, m, k = map(int, input().split())\n",
    "data = list(map(int, input().split()))\n",
    "\n",
    "data.sort()\n",
    "first = data[n - 1]\n",
    "second = data[n - 2]\n",
    "\n",
    "count = int(m / (k+1)) * k\n",
    "count += m % (k + 1)\n",
    "\n",
    "result = 0\n",
    "result += (count) * first\n",
    "result += (m - count) * second\n",
    "\n",
    "print(result)"
   ]
  },
  {
   "cell_type": "code",
   "execution_count": null,
   "metadata": {},
   "outputs": [],
   "source": []
  }
 ],
 "metadata": {
  "kernelspec": {
   "display_name": "Python 3",
   "language": "python",
   "name": "python3"
  },
  "language_info": {
   "codemirror_mode": {
    "name": "ipython",
    "version": 3
   },
   "file_extension": ".py",
   "mimetype": "text/x-python",
   "name": "python",
   "nbconvert_exporter": "python",
   "pygments_lexer": "ipython3",
   "version": "3.8.5"
  }
 },
 "nbformat": 4,
 "nbformat_minor": 4
}
