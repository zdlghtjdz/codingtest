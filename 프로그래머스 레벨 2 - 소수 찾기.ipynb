{
 "cells": [
  {
   "cell_type": "code",
   "execution_count": 1,
   "metadata": {},
   "outputs": [],
   "source": [
    "import itertools\n",
    "\n",
    "def find_decimal(number):\n",
    "    if number == 1:\n",
    "        return 1\n",
    "    elif number == 0:\n",
    "        return 1\n",
    "    for i in range(2, number):\n",
    "        if number % i == 0:\n",
    "            return 1\n",
    "    return 0\n",
    "\n",
    "def solution(numbers):\n",
    "    answer = 0\n",
    "    \n",
    "    num_list = []\n",
    "    \n",
    "    for i in range(len(numbers)):\n",
    "        num_list.append(numbers[i])\n",
    "    \n",
    "    a = []\n",
    "    for i in range(1, len(numbers)+1):\n",
    "        a.append(list(itertools.permutations(num_list, i)))\n",
    "    answer_list = []\n",
    "    for i in a:\n",
    "        for j in i:\n",
    "            tmp = \"\"\n",
    "            for k in j:\n",
    "                tmp += k\n",
    "            if find_decimal(int(tmp)) == 0:\n",
    "                answer_list.append(int(tmp))\n",
    "     \n",
    "    answer_set = set(answer_list)\n",
    "    answer_list = list(answer_set)\n",
    "    return len(answer_list)"
   ]
  },
  {
   "cell_type": "code",
   "execution_count": null,
   "metadata": {},
   "outputs": [],
   "source": [
    "# 다른 사람의 풀이\n",
    "\n",
    "from itertools import permutations\n",
    "def solution(n):\n",
    "    a = set()\n",
    "    for i in range(len(n)):\n",
    "        a |= set(map(int, map(\"\".join, permutations(list(n), i + 1))))\n",
    "    a -= set(range(0, 2))\n",
    "    for i in range(2, int(max(a) ** 0.5) + 1):\n",
    "        a -= set(range(i * 2, max(a) + 1, i))\n",
    "    return len(a)"
   ]
  }
 ],
 "metadata": {
  "kernelspec": {
   "display_name": "Python 3",
   "language": "python",
   "name": "python3"
  },
  "language_info": {
   "codemirror_mode": {
    "name": "ipython",
    "version": 3
   },
   "file_extension": ".py",
   "mimetype": "text/x-python",
   "name": "python",
   "nbconvert_exporter": "python",
   "pygments_lexer": "ipython3",
   "version": "3.8.5"
  }
 },
 "nbformat": 4,
 "nbformat_minor": 4
}
