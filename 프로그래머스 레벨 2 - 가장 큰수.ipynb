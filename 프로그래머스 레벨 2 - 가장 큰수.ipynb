{
 "cells": [
  {
   "cell_type": "code",
   "execution_count": 1,
   "metadata": {},
   "outputs": [],
   "source": [
    "# 0점 ㅋㅋ;\n",
    "from itertools import permutations\n",
    "\n",
    "def solution(numbers):\n",
    "    answer = ''\n",
    "    \n",
    "    a = list(permutations(numbers,len(numbers)))\n",
    "    r = []\n",
    "    \n",
    "    for i in a:\n",
    "        tmp = ''\n",
    "        for j in i:  \n",
    "            tmp += str(j)\n",
    "        r.append(tmp)    \n",
    "    \n",
    "    nr = sorted(r, key=lambda x : int(x), reverse=True)\n",
    "    \n",
    "    return nr[0]"
   ]
  },
  {
   "cell_type": "code",
   "execution_count": 3,
   "metadata": {},
   "outputs": [
    {
     "name": "stdout",
     "output_type": "stream",
     "text": [
      "['3', '30', '31', '32', '33', '34', '35', '36', '37', '38', '39']\n"
     ]
    }
   ],
   "source": [
    "a = [\"3\", \"30\", \"31\", \"32\", \"33\", \"34\", \"35\", \"36\", \"37\", \"38\", \"39\"]\n",
    "\n",
    "a.sort()\n",
    "print(a)"
   ]
  },
  {
   "cell_type": "code",
   "execution_count": null,
   "metadata": {},
   "outputs": [],
   "source": []
  }
 ],
 "metadata": {
  "kernelspec": {
   "display_name": "Python 3",
   "language": "python",
   "name": "python3"
  },
  "language_info": {
   "codemirror_mode": {
    "name": "ipython",
    "version": 3
   },
   "file_extension": ".py",
   "mimetype": "text/x-python",
   "name": "python",
   "nbconvert_exporter": "python",
   "pygments_lexer": "ipython3",
   "version": "3.8.5"
  }
 },
 "nbformat": 4,
 "nbformat_minor": 4
}
