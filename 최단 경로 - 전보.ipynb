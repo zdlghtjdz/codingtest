{
 "cells": [
  {
   "cell_type": "code",
   "execution_count": 29,
   "metadata": {},
   "outputs": [
    {
     "name": "stdout",
     "output_type": "stream",
     "text": [
      "3 2 1\n",
      "1 2 4\n",
      "1 3 2\n",
      "2 4\n"
     ]
    }
   ],
   "source": [
    "import heapq\n",
    "\n",
    "INF = int(1e9)\n",
    "\n",
    "n, m, c = map(int, input().split())\n",
    "graph = [[] for _ in range(n+1)]\n",
    "distance = [INF] * (n+1)\n",
    "\n",
    "for _ in range(m):\n",
    "    a, b, d = map(int, input().split())\n",
    "    graph[a].append((b,d))\n",
    "    \n",
    "def dijkstra(start):\n",
    "    q = []\n",
    "    heapq.heappush(q, (0, start))\n",
    "    distance[start] = 0\n",
    "    while q :\n",
    "        dist, now = heapq.heappop(q)\n",
    "        if distance[now] < dist :\n",
    "            continue\n",
    "        for i in graph[now]:\n",
    "            cost = dist + i[1]\n",
    "            if distance[i[0]] > cost:\n",
    "                distance[i[0]] = cost\n",
    "                heapq.heappush(q, (cost, i[0]))\n",
    "               \n",
    "dijkstra(c)\n",
    "answer = 0\n",
    "answer_max = 0\n",
    "for i in distance :\n",
    "    if i != INF and i != 0:\n",
    "        answer += 1\n",
    "        if i > answer_max :\n",
    "            answer_max = i\n",
    "print(answer, answer_max)"
   ]
  },
  {
   "cell_type": "code",
   "execution_count": null,
   "metadata": {},
   "outputs": [],
   "source": []
  }
 ],
 "metadata": {
  "kernelspec": {
   "display_name": "Python 3",
   "language": "python",
   "name": "python3"
  },
  "language_info": {
   "codemirror_mode": {
    "name": "ipython",
    "version": 3
   },
   "file_extension": ".py",
   "mimetype": "text/x-python",
   "name": "python",
   "nbconvert_exporter": "python",
   "pygments_lexer": "ipython3",
   "version": "3.8.5"
  }
 },
 "nbformat": 4,
 "nbformat_minor": 4
}
