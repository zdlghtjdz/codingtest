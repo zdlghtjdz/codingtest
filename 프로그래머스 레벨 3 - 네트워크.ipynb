{
 "cells": [
  {
   "cell_type": "code",
   "execution_count": 6,
   "metadata": {},
   "outputs": [
    {
     "name": "stdout",
     "output_type": "stream",
     "text": [
      "1\n"
     ]
    }
   ],
   "source": [
    "\n",
    "#   0 1 2 \n",
    "# 0 1 1 0\n",
    "# 1 1 1 0\n",
    "# 2 0 0 1\n",
    "import sys\n",
    "sys.setrecursionlimit(30000)\n",
    "\n",
    "def dfs(set_computer, v, visited):\n",
    "    if visited[v] == False:\n",
    "        visited[v] = True\n",
    "        for i in set_computer[v]:\n",
    "            if not visited[i]:\n",
    "                dfs(set_computer, i, visited)\n",
    "        return True\n",
    "    else :\n",
    "        return False\n",
    "        \n",
    "n = 3\n",
    "computers = [[1, 1, 0], [1, 1, 1], [0, 1 ,1]]\n",
    "answer = 0\n",
    "    \n",
    "set_computer = []\n",
    "#set_computer.append([])\n",
    "for i in range(n): # 인접리스트로 변환해서 확인\n",
    "    array = []\n",
    "    for j in range(n):\n",
    "        #if i == j : # 자기자신은 당연히 연결되어 있으므로 제외. 나머지 것들만 살펴보자.\n",
    "        #    continue\n",
    "        if computers[i][j] == 1:\n",
    "            array.append(j)\n",
    "    set_computer.append(array)   \n",
    "visited = [False] * n\n",
    "for i in range(n):\n",
    "    if dfs(set_computer, i, visited):\n",
    "        answer += 1\n",
    "   # answer += len(computers) \n",
    "print(answer)"
   ]
  },
  {
   "cell_type": "code",
   "execution_count": null,
   "metadata": {},
   "outputs": [],
   "source": []
  }
 ],
 "metadata": {
  "kernelspec": {
   "display_name": "Python 3",
   "language": "python",
   "name": "python3"
  },
  "language_info": {
   "codemirror_mode": {
    "name": "ipython",
    "version": 3
   },
   "file_extension": ".py",
   "mimetype": "text/x-python",
   "name": "python",
   "nbconvert_exporter": "python",
   "pygments_lexer": "ipython3",
   "version": "3.8.5"
  }
 },
 "nbformat": 4,
 "nbformat_minor": 4
}
