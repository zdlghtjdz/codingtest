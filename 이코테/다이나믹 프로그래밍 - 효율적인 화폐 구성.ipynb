{
 "cells": [
  {
   "cell_type": "code",
   "execution_count": 27,
   "metadata": {},
   "outputs": [
    {
     "name": "stdout",
     "output_type": "stream",
     "text": [
      "3 4\n",
      "3\n",
      "5\n",
      "7\n",
      "-1\n"
     ]
    }
   ],
   "source": [
    "#화폐가치 <= 10000 자연수.\n",
    "n, m = list(map(int, input().split()))\n",
    "\n",
    "coin = []\n",
    "table = [0] * 10001\n",
    "\n",
    "for i in range(n):\n",
    "    coin.append(int(input()))\n",
    "\n",
    "coin.sort()\n",
    "    \n",
    "for i in range(m+1):\n",
    "    if i < coin[0]:\n",
    "        table[i] = -1\n",
    "    \n",
    "    elif i in coin :\n",
    "        table[i] = 1\n",
    "    \n",
    "    else :\n",
    "        min_ = 10001\n",
    "        for j in coin:\n",
    "            if i > j and min_ > table[i - j] + 1 and table[i - j] >= 0:\n",
    "                min_ = table[i - j] + 1\n",
    "        if min != 10001:\n",
    "            table[i] = min\n",
    "        else:\n",
    "            table[i] = -1\n",
    "        \n",
    "print(table[m])\n",
    "        \n",
    "    "
   ]
  },
  {
   "cell_type": "code",
   "execution_count": 3,
   "metadata": {},
   "outputs": [
    {
     "name": "stdout",
     "output_type": "stream",
     "text": [
      "3 4\n",
      "3\n",
      "5\n",
      "7\n",
      "-1\n"
     ]
    }
   ],
   "source": [
    "# 해답.\n",
    "n, m = map(int, input().split())\n",
    "\n",
    "array = []\n",
    "for i in range(n):\n",
    "    array.append(int(input()))\n",
    "    \n",
    "d = [10001] * (m + 1)\n",
    "\n",
    "d[0] = 0\n",
    "\n",
    "for i in range(n):\n",
    "    for j in range(array[i], m + 1):\n",
    "        if d[j - array[i]] != 10001:\n",
    "            d[j] = min(d[j], d[j - array[i]] + 1)\n",
    "\n",
    "if d[m] == 10001:\n",
    "    print(-1)\n",
    "else:\n",
    "    print(d[m])"
   ]
  },
  {
   "cell_type": "code",
   "execution_count": null,
   "metadata": {},
   "outputs": [],
   "source": []
  },
  {
   "cell_type": "code",
   "execution_count": null,
   "metadata": {},
   "outputs": [],
   "source": []
  }
 ],
 "metadata": {
  "kernelspec": {
   "display_name": "Python 3",
   "language": "python",
   "name": "python3"
  },
  "language_info": {
   "codemirror_mode": {
    "name": "ipython",
    "version": 3
   },
   "file_extension": ".py",
   "mimetype": "text/x-python",
   "name": "python",
   "nbconvert_exporter": "python",
   "pygments_lexer": "ipython3",
   "version": "3.8.5"
  }
 },
 "nbformat": 4,
 "nbformat_minor": 4
}
