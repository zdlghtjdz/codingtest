{
 "cells": [
  {
   "cell_type": "code",
   "execution_count": 7,
   "metadata": {},
   "outputs": [
    {
     "name": "stdout",
     "output_type": "stream",
     "text": [
      "2\n",
      "홍길동 95\n",
      "이순신 77\n",
      "[('홍길동', 95), ('이순신', 77)]\n",
      "이순신 홍길동 "
     ]
    }
   ],
   "source": [
    "a = int(input())\n",
    "b = []\n",
    "for i in range(a):\n",
    "    c = list(input().split())\n",
    "    b.append((c[0], int(c[1])))\n",
    "    \n",
    "#print(b)\n",
    "\n",
    "d = sorted(b, key=lambda x : x[1])\n",
    "\n",
    "for i in d:\n",
    "    print(i[0], end= ' ')"
   ]
  },
  {
   "cell_type": "code",
   "execution_count": null,
   "metadata": {},
   "outputs": [],
   "source": []
  }
 ],
 "metadata": {
  "kernelspec": {
   "display_name": "Python 3",
   "language": "python",
   "name": "python3"
  },
  "language_info": {
   "codemirror_mode": {
    "name": "ipython",
    "version": 3
   },
   "file_extension": ".py",
   "mimetype": "text/x-python",
   "name": "python",
   "nbconvert_exporter": "python",
   "pygments_lexer": "ipython3",
   "version": "3.8.5"
  }
 },
 "nbformat": 4,
 "nbformat_minor": 4
}
