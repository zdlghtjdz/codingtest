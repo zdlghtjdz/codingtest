{
 "cells": [
  {
   "cell_type": "code",
   "execution_count": 11,
   "metadata": {},
   "outputs": [
    {
     "name": "stdout",
     "output_type": "stream",
     "text": [
      "탱크들을 입력해주세요. : 100 10 10 10 10\n",
      "# 1 : 0 -> 1\n",
      "[100, -190, 10, 10, 10]\n",
      "# 2 : 2 -> 0\n",
      "[80, -190, 10, 10, 10]\n",
      "# 3 : 3 -> 0\n",
      "[60, -190, 10, 10, 10]\n",
      "# 4 : 4 -> 0\n",
      "[40, -190, 10, 10, 10]\n",
      "# 5 : 0 -> 2\n",
      "[40, -190, -70, 10, 10]\n",
      "# 6 : 3 -> 0\n",
      "[20, -190, -70, 10, 10]\n",
      "# 7 : 4 -> 0\n",
      "[0, -190, -70, 10, 10]\n",
      "# 8 : 3 -> 4\n",
      "[0, -190, -70, 10, -10]\n",
      "탱크게임이 끝났습니다. 3 번 탱크가 이겼습니다.\n"
     ]
    }
   ],
   "source": [
    "def search_target(tanks, index) :\n",
    "  \n",
    "    tmp_list = tanks.copy()\n",
    "    if tmp_list[index] == max(tmp_list):\n",
    "        tmp_list[index] = -1\n",
    "    #print(max(tmp_list))\n",
    "    return tmp_list.index(max(tmp_list))\n",
    "               \n",
    "def next_cannoner(tanks, index):\n",
    "    while True :\n",
    "        index += 1\n",
    "        if index == len(tanks):\n",
    "            index = 0\n",
    "        #print(tanks[index])\n",
    "        if tanks[index] <= 0:    \n",
    "            continue\n",
    "        else:\n",
    "            return index\n",
    "\n",
    "\n",
    "\n",
    "# 탱크는 돌아가면서 쏘고, 위력은 탱크 내구력 X 2, 타겟은 가장 높은 내구력을 가진 탱크\n",
    "\n",
    "tanks = list(map(int, input(\"탱크들을 입력해주세요. : \").split()))\n",
    "\n",
    "tank_die_list = []\n",
    "index = 0\n",
    "turn = 1\n",
    "while True:\n",
    "    if len(tank_die_list) == len(tanks) - 1:\n",
    "        break\n",
    "    s_t = search_target(tanks, index)\n",
    "    tanks[s_t] -= 2 * tanks[index]\n",
    "    print(\"#\", turn, \":\", index, \"->\", s_t)\n",
    "    print(tanks)\n",
    "    \n",
    "    if tanks[s_t] <= 0:\n",
    "        tank_die_list.append(s_t)\n",
    "    index = next_cannoner(tanks, index)\n",
    "    turn += 1\n",
    "\n",
    "print(\"탱크게임이 끝났습니다.\", tanks.index(max(tanks)),\"번 탱크가 이겼습니다.\")"
   ]
  },
  {
   "cell_type": "code",
   "execution_count": 35,
   "metadata": {},
   "outputs": [
    {
     "data": {
      "text/plain": [
       "[2, 3]"
      ]
     },
     "execution_count": 35,
     "metadata": {},
     "output_type": "execute_result"
    }
   ],
   "source": [
    "a = [1, 2, 3]\n",
    "\n",
    "b = a[:0] + a[1:]\n",
    "b"
   ]
  },
  {
   "cell_type": "code",
   "execution_count": 7,
   "metadata": {},
   "outputs": [
    {
     "data": {
      "text/plain": [
       "[1, 0]"
      ]
     },
     "execution_count": 7,
     "metadata": {},
     "output_type": "execute_result"
    }
   ],
   "source": [
    "a = [1, 2]\n",
    "b = a\n",
    "b[1] = 0\n",
    "a"
   ]
  },
  {
   "cell_type": "code",
   "execution_count": null,
   "metadata": {},
   "outputs": [],
   "source": []
  }
 ],
 "metadata": {
  "kernelspec": {
   "display_name": "Python 3",
   "language": "python",
   "name": "python3"
  },
  "language_info": {
   "codemirror_mode": {
    "name": "ipython",
    "version": 3
   },
   "file_extension": ".py",
   "mimetype": "text/x-python",
   "name": "python",
   "nbconvert_exporter": "python",
   "pygments_lexer": "ipython3",
   "version": "3.8.5"
  }
 },
 "nbformat": 4,
 "nbformat_minor": 4
}
