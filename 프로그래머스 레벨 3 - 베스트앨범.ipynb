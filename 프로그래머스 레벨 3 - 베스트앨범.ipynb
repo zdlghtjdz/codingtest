{
 "cells": [
  {
   "cell_type": "code",
   "execution_count": 54,
   "metadata": {},
   "outputs": [
    {
     "name": "stdout",
     "output_type": "stream",
     "text": [
      "{500: 0, 2500: 4, 150: 2, 800: 3}\n",
      "Counter({'classic': 3, 'pop': 2})\n",
      "['classic', 'pop']\n",
      "{500: 'classic', 2500: 'pop', 150: 'classic', 800: 'classic'}\n",
      "[2500, 800, 500, 150]\n",
      "[[2500], [800, 500]]\n",
      "[4, 3, 0]\n"
     ]
    }
   ],
   "source": [
    "# 20점 ㅋㅋ;\n",
    "import collections\n",
    "\n",
    "genres = [\"classic\", \"pop\", \"classic\", \"classic\", \"pop\"]\n",
    "plays = [500, 2500, 150, 800, 2500]\n",
    "\n",
    "answer = []\n",
    "\n",
    "# 장르의 종류는 ? (몇 개인가)\n",
    "\n",
    "index_plays = dict(zip(plays, list(range(len(plays)))))\n",
    "print(index_plays)\n",
    "\n",
    "genre_count = collections.Counter(genres)\n",
    "print(genre_count)\n",
    "genre = list(genre_count) # len함수를 적용하면 장르의 개수\n",
    "print(genre)\n",
    "\n",
    "# 많이 재생된 노래 순으로 딕셔너리 정렬.\n",
    "\n",
    "song_dic = dict(zip(plays, genres))\n",
    "print(song_dic)\n",
    "song_dic_st = sorted(song_dic, reverse=True)\n",
    "print(song_dic_st)\n",
    "\n",
    "tmp_list = [] #len(list(genre_count)) 종류 만큼 \n",
    "\n",
    "for i in range(len(list(genre_count))):\n",
    "    tmp_list.append([])\n",
    "\n",
    "for i in song_dic_st:\n",
    "    if len(tmp_list[genre.index(song_dic[i])]) < 2:\n",
    "        tmp_list[genre.index(song_dic[i])].append(i)\n",
    "    \n",
    "tmp_list\n",
    "\n",
    "new = sorted(tmp_list, key=lambda x : x[0], reverse=True)\n",
    "print(new)\n",
    "\n",
    "for i in new:\n",
    "    for j in range(len(i)):\n",
    "        answer.append(index_plays[i[j]])\n",
    "\n",
    "print(answer)"
   ]
  },
  {
   "cell_type": "code",
   "execution_count": 51,
   "metadata": {},
   "outputs": [
    {
     "data": {
      "text/plain": [
       "[[], []]"
      ]
     },
     "execution_count": 51,
     "metadata": {},
     "output_type": "execute_result"
    }
   ],
   "source": [
    "test = []\n",
    "test.append([])\n",
    "test.append([])\n",
    "test"
   ]
  },
  {
   "cell_type": "code",
   "execution_count": 6,
   "metadata": {},
   "outputs": [
    {
     "name": "stdout",
     "output_type": "stream",
     "text": [
      "{'classic': [], 'pop': [], 'hip': []}\n",
      "('hip', 300, 3)\n",
      "['hip', 'pop', 'classic']\n",
      "[2, 3, 1, 0]\n"
     ]
    }
   ],
   "source": [
    "\n",
    "\n",
    "genres = [\"classic\", \"pop\", \"hip\", \"hip\"]\n",
    "plays = [500, 600, 400, 300]\n",
    "answer = []\n",
    "\n",
    "\n",
    "\n",
    "d = {e:[] for e in set(genres)} # 장르의 종류를 set으로 얻어냄.\n",
    "\n",
    "print(d)\n",
    "\n",
    "for e in zip(genres, plays, range(len(plays))):\n",
    "    d[e[0]].append([e[1] , e[2]])\n",
    "\n",
    "print(e)\n",
    "    \n",
    "genreSort = sorted(list(d.keys()), key= lambda x: sum( map(lambda y: y[0],d[x])), reverse = True)\n",
    "\n",
    "print(genreSort)\n",
    "\n",
    "for g in genreSort:\n",
    "    temp = [e[1] for e in sorted(d[g],key= lambda x: (x[0], -x[1]), reverse = True)]\n",
    "    answer += temp[:min(len(temp),2)]\n",
    "    \n",
    "print(answer)"
   ]
  },
  {
   "cell_type": "code",
   "execution_count": 5,
   "metadata": {},
   "outputs": [
    {
     "name": "stdout",
     "output_type": "stream",
     "text": [
      "('hip', 300, 3)\n",
      "{'classic': [[500, 0]], 'pop': [[600, 1]], 'hip': [[400, 2], [300, 3]]}\n"
     ]
    },
    {
     "data": {
      "text/plain": [
       "{'classic', 'hip', 'pop'}"
      ]
     },
     "execution_count": 5,
     "metadata": {},
     "output_type": "execute_result"
    }
   ],
   "source": [
    "b = set(genres)\n",
    "print(e)\n",
    "print(d)\n",
    "b"
   ]
  },
  {
   "cell_type": "code",
   "execution_count": null,
   "metadata": {},
   "outputs": [],
   "source": []
  }
 ],
 "metadata": {
  "kernelspec": {
   "display_name": "Python 3",
   "language": "python",
   "name": "python3"
  },
  "language_info": {
   "codemirror_mode": {
    "name": "ipython",
    "version": 3
   },
   "file_extension": ".py",
   "mimetype": "text/x-python",
   "name": "python",
   "nbconvert_exporter": "python",
   "pygments_lexer": "ipython3",
   "version": "3.8.5"
  }
 },
 "nbformat": 4,
 "nbformat_minor": 4
}
